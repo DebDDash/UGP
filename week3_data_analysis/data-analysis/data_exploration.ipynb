{
 "cells": [
  {
   "cell_type": "code",
   "execution_count": 1,
   "metadata": {},
   "outputs": [],
   "source": [
    "import h5py\n",
    "import pandas as pd\n",
    "from scipy.sparse import csc_matrix"
   ]
  },
  {
   "cell_type": "code",
   "execution_count": 2,
   "metadata": {},
   "outputs": [],
   "source": [
    "def load_hdf5_as_dataframe(h5_file_path):\n",
    "    \"\"\"\n",
    "    Loads an HDF5 file containing a sparse gene expression matrix and converts it to a dense pandas DataFrame.\n",
    "\n",
    "    Parameters:\n",
    "        h5_file_path (str): Path to the HDF5 file.\n",
    "\n",
    "    Returns:\n",
    "        pd.DataFrame: Gene expression matrix with rows as cell barcodes and columns as gene names.\n",
    "    \"\"\"\n",
    "    with h5py.File(h5_file_path, \"r\") as f:\n",
    "        # Extract matrix components\n",
    "        matrix_group = f[\"matrix\"]\n",
    "        data = matrix_group[\"data\"][:]\n",
    "        indices = matrix_group[\"indices\"][:]\n",
    "        indptr = matrix_group[\"indptr\"][:]\n",
    "        shape = tuple(matrix_group[\"shape\"][:])\n",
    "\n",
    "        # Build sparse matrix\n",
    "        sparse_matrix = csc_matrix((data, indices, indptr), shape=shape)\n",
    "\n",
    "        # Extract barcodes (row identifiers) and gene names (column identifiers)\n",
    "        cell_barcodes = matrix_group[\"barcodes\"][:].astype(str)\n",
    "        gene_names = matrix_group[\"features\"][\"name\"][:].astype(str)\n",
    "\n",
    "        # Convert sparse matrix to a dense DataFrame\n",
    "        expression_df = pd.DataFrame(sparse_matrix.T.toarray(), index=cell_barcodes, columns=gene_names)\n",
    "\n",
    "    return expression_df"
   ]
  },
  {
   "cell_type": "code",
   "execution_count": 3,
   "metadata": {},
   "outputs": [],
   "source": [
    "xenium_v1_df = load_hdf5_as_dataframe(\"cell_feature_matrix_v1.h5\")\n",
    "xenium_v2_df = load_hdf5_as_dataframe(\"cell_feature_matrix_v2.h5\")"
   ]
  },
  {
   "cell_type": "code",
   "execution_count": 4,
   "metadata": {},
   "outputs": [
    {
     "name": "stdout",
     "output_type": "stream",
     "text": [
      "Xenium v2 Shape: (278328, 10029)\n",
      "Xenium v1 Shape: (278659, 541)\n"
     ]
    }
   ],
   "source": [
    "print(\"Xenium v2 Shape:\", xenium_v2_df.shape)  # Should be (num_cells, 5000)\n",
    "print(\"Xenium v1 Shape:\", xenium_v1_df.shape)  # Should be (num_cells, 300)"
   ]
  },
  {
   "cell_type": "code",
   "execution_count": 5,
   "metadata": {},
   "outputs": [
    {
     "name": "stdout",
     "output_type": "stream",
     "text": [
      "Xenium v1 Preview:\n",
      "             ACE  ACE2  ACKR1  ADAM17  ADAM28  ADAMTS1  ADGRL4  AGER  AGR3  \\\n",
      "aaaadcac-1    0     0      0       0       0        0       0     0     2   \n",
      "aaaaieak-1    0     0      0       0       0        0       0     0    11   \n",
      "aaaanbhm-1    2     0      0       5       0        0       0     0     1   \n",
      "aaaankfe-1    0     0      0       1       0        0       0     0    27   \n",
      "aaaankfi-1    0     0      0       0       0        0       0     0     0   \n",
      "\n",
      "            AIF1  ...  UnassignedCodeword_0493  UnassignedCodeword_0494  \\\n",
      "aaaadcac-1     0  ...                        0                        0   \n",
      "aaaaieak-1     0  ...                        0                        0   \n",
      "aaaanbhm-1     2  ...                        0                        0   \n",
      "aaaankfe-1     0  ...                        0                        0   \n",
      "aaaankfi-1     0  ...                        0                        0   \n",
      "\n",
      "            UnassignedCodeword_0495  UnassignedCodeword_0496  \\\n",
      "aaaadcac-1                        0                        0   \n",
      "aaaaieak-1                        0                        0   \n",
      "aaaanbhm-1                        0                        0   \n",
      "aaaankfe-1                        0                        0   \n",
      "aaaankfi-1                        0                        0   \n",
      "\n",
      "            UnassignedCodeword_0497  UnassignedCodeword_0498  \\\n",
      "aaaadcac-1                        0                        0   \n",
      "aaaaieak-1                        0                        0   \n",
      "aaaanbhm-1                        0                        0   \n",
      "aaaankfe-1                        0                        0   \n",
      "aaaankfi-1                        0                        0   \n",
      "\n",
      "            UnassignedCodeword_0499  DeprecatedCodeword_0105  \\\n",
      "aaaadcac-1                        0                        0   \n",
      "aaaaieak-1                        0                        0   \n",
      "aaaanbhm-1                        0                        0   \n",
      "aaaankfe-1                        0                        0   \n",
      "aaaankfi-1                        0                        0   \n",
      "\n",
      "            DeprecatedCodeword_0174  DeprecatedCodeword_0397  \n",
      "aaaadcac-1                        0                        0  \n",
      "aaaaieak-1                        0                        0  \n",
      "aaaanbhm-1                        0                        0  \n",
      "aaaankfe-1                        0                        0  \n",
      "aaaankfi-1                        0                        0  \n",
      "\n",
      "[5 rows x 541 columns]\n"
     ]
    }
   ],
   "source": [
    "print(\"Xenium v1 Preview:\\n\", xenium_v1_df.head())"
   ]
  },
  {
   "cell_type": "code",
   "execution_count": 6,
   "metadata": {},
   "outputs": [
    {
     "name": "stdout",
     "output_type": "stream",
     "text": [
      "Xenium v2 Preview:\n",
      "             A2ML1  AAMP  AAR2  AARSD1  ABAT  ABCA1  ABCA3  ABCA4  ABCA7  \\\n",
      "aaaaadnb-1      0     0     0       0     0      0      0      0      0   \n",
      "aaaabalp-1      0     0     0       0     0      0      0      0      0   \n",
      "aaaadfei-1      0     0     0       0     0      0      0      0      0   \n",
      "aaaadjia-1      0     0     0       0     0      0      0      0      0   \n",
      "aaaafglb-1      0     0     0       2     0      0      0      0      1   \n",
      "\n",
      "            ABCB1  ...  DeprecatedCodeword_18589  DeprecatedCodeword_18601  \\\n",
      "aaaaadnb-1      0  ...                         0                         0   \n",
      "aaaabalp-1      0  ...                         0                         0   \n",
      "aaaadfei-1      0  ...                         0                         0   \n",
      "aaaadjia-1      0  ...                         0                         0   \n",
      "aaaafglb-1      1  ...                         0                         0   \n",
      "\n",
      "            DeprecatedCodeword_18609  DeprecatedCodeword_18616  \\\n",
      "aaaaadnb-1                         0                         0   \n",
      "aaaabalp-1                         0                         0   \n",
      "aaaadfei-1                         0                         0   \n",
      "aaaadjia-1                         0                         0   \n",
      "aaaafglb-1                         0                         0   \n",
      "\n",
      "            DeprecatedCodeword_18620  DeprecatedCodeword_18632  \\\n",
      "aaaaadnb-1                         0                         0   \n",
      "aaaabalp-1                         0                         0   \n",
      "aaaadfei-1                         0                         0   \n",
      "aaaadjia-1                         0                         0   \n",
      "aaaafglb-1                         0                         0   \n",
      "\n",
      "            DeprecatedCodeword_18637  DeprecatedCodeword_18639  \\\n",
      "aaaaadnb-1                         0                         0   \n",
      "aaaabalp-1                         0                         0   \n",
      "aaaadfei-1                         0                         0   \n",
      "aaaadjia-1                         0                         0   \n",
      "aaaafglb-1                         0                         0   \n",
      "\n",
      "            DeprecatedCodeword_18646  DeprecatedCodeword_18649  \n",
      "aaaaadnb-1                         0                         0  \n",
      "aaaabalp-1                         0                         0  \n",
      "aaaadfei-1                         0                         0  \n",
      "aaaadjia-1                         0                         0  \n",
      "aaaafglb-1                         0                         0  \n",
      "\n",
      "[5 rows x 10029 columns]\n"
     ]
    }
   ],
   "source": [
    "print(\"Xenium v2 Preview:\\n\", xenium_v2_df.head())"
   ]
  },
  {
   "cell_type": "code",
   "execution_count": 7,
   "metadata": {},
   "outputs": [
    {
     "name": "stdout",
     "output_type": "stream",
     "text": [
      "Missing values in Xenium v2: 0\n",
      "Missing values in Xenium v1: 0\n"
     ]
    }
   ],
   "source": [
    "# Check for missing values\n",
    "print(\"Missing values in Xenium v2:\", xenium_v2_df.isnull().sum().sum())\n",
    "print(\"Missing values in Xenium v1:\", xenium_v1_df.isnull().sum().sum())"
   ]
  },
  {
   "cell_type": "code",
   "execution_count": 8,
   "metadata": {},
   "outputs": [
    {
     "name": "stdout",
     "output_type": "stream",
     "text": [
      "Number of common cells: 16\n"
     ]
    }
   ],
   "source": [
    "# Find common cells\n",
    "common_cells = set(xenium_v1_df.index) & set(xenium_v2_df.index)\n",
    "print(f\"Number of common cells: {len(common_cells)}\")"
   ]
  },
  {
   "cell_type": "code",
   "execution_count": 12,
   "metadata": {},
   "outputs": [
    {
     "name": "stdout",
     "output_type": "stream",
     "text": [
      "['fppfflga-1', 'gdphoaij-1', 'nodkllil-1', 'ekkeebih-1', 'jbckkggo-1', 'cclepell-1', 'dkhjafpj-1', 'fcilpdfj-1', 'gkblabnd-1', 'fdapelpa-1', 'kmingbmg-1', 'mkilfjpa-1', 'nfjajmgc-1', 'kjcnelmc-1', 'bembdein-1', 'hfdbkegl-1']\n"
     ]
    }
   ],
   "source": [
    "print(common_cells)"
   ]
  },
  {
   "cell_type": "code",
   "execution_count": 9,
   "metadata": {},
   "outputs": [
    {
     "name": "stdout",
     "output_type": "stream",
     "text": [
      "Number of common genes: 232\n"
     ]
    }
   ],
   "source": [
    "# Find common genes\n",
    "common_genes = set(xenium_v1_df.columns) & set(xenium_v2_df.columns)\n",
    "print(f\"Number of common genes: {len(common_genes)}\")"
   ]
  },
  {
   "cell_type": "code",
   "execution_count": 13,
   "metadata": {},
   "outputs": [
    {
     "name": "stdout",
     "output_type": "stream",
     "text": [
      "['CD1A', 'MS4A2', 'TSPAN8', 'FGFBP2', 'KLF5', 'KLRC1', 'SLC7A11', 'CDK1', 'TNFRSF17', 'KDR', 'TOP2A', 'NegControlProbe_00002', 'UnassignedCodeword_0120', 'SOX2', 'NegControlProbe_00019', 'TP63', 'UnassignedCodeword_0241', 'CFTR', 'UnassignedCodeword_0428', 'CD19', 'CCNA1', 'TREM2', 'FCGR3A', 'SELE', 'FCMR', 'CD40', 'NFKB1', 'SLC1A3', 'FGFR4', 'LILRA5', 'BANK1', 'GLIPR2', 'TNFRSF18', 'FSCN1', 'POU2AF1', 'CTSL', 'CD3E', 'NegControlProbe_00035', 'FOXP3', 'PLN', 'WNT2', 'ADGRL4', 'MMP9', 'CD300E', 'ANPEP', 'FOXI1', 'SLC2A1', 'CD68', 'NegControlProbe_00042', 'NegControlProbe_00031', 'SYK', 'UnassignedCodeword_0437', 'MUC1', 'NegControlProbe_00034', 'GZMA', 'UnassignedCodeword_0221', 'TRPC6', 'PIM2', 'RETN', 'PDGFRB', 'FCN1', 'IQGAP2', 'TCL1A', 'AGER', 'FCGR1A', 'SOX9', 'GJA5', 'STEAP4', 'EHF', 'ACE2', 'RUNX3', 'CXCL5', 'SPIB', 'FASN', 'LGR5', 'FAS', 'PDPN', 'SERPINA3', 'PCNA', 'CD34', 'LTBP2', 'MUC5B', 'ACE', 'TC2N', 'UPK3B', 'GZMK', 'MAP7', 'MET', 'KLRD1', 'LILRB4', 'MMP12', 'HIF1A', 'STAT4', 'LCK', 'GPR34', 'SLIT3', 'CCNB2', 'HAVCR2', 'SHANK3', 'CD40LG', 'SLC18A2', 'CXCL9', 'THBS2', 'AQP9', 'CTTN', 'VSIG4', 'NTN4', 'LILRA4', 'MFAP5', 'GLCCI1', 'UnassignedCodeword_0459', 'TMPRSS2', 'CXCL10', 'PIM1', 'UnassignedCodeword_0191', 'CLEC12A', 'CD28', 'PDCD1', 'EPCAM', 'CD247', 'CLEC10A', 'ADAM17', 'PDGFRA', 'ASCL2', 'DCLK1', 'LILRB2', 'FCER1A', 'CHIT1', 'KIT', 'UnassignedCodeword_0139', 'MYC', 'ADAMTS1', 'FASLG', 'UnassignedCodeword_0439', 'NTRK2', 'NegControlProbe_00004', 'NegControlProbe_00041', 'CENPF', 'GZMB', 'CXCR6', 'PLA2G7', 'PTGS1', 'NCEH1', 'UnassignedCodeword_0176', 'CFB', 'MALL', 'NegControlProbe_00025', 'CD79A', 'ETV5', 'CCR7', 'KLRB1', 'P2RX1', 'NegControlProbe_00009', 'ITGAM', 'PDCD1LG2', 'LGR6', 'TMEM100', 'CD80', 'NegControlProbe_00014', 'MKI67', 'COL5A2', 'EGFR', 'TP73', 'UnassignedCodeword_0223', 'CP', 'NegControlProbe_00039', 'IGF1', 'MARCO', 'FKBP11', 'HPGDS', 'NegControlProbe_00017', 'SEMA3C', 'CD2', 'CXCL6', 'CLDN5', 'CD86', 'IRF8', 'CXCR5', 'TNFRSF13B', 'CD8B', 'CD4', 'SELP', 'PROX1', 'MS4A1', 'SELL', 'AGR3', 'UnassignedCodeword_0476', 'CD1C', 'CSPG4', 'MZB1', 'DIRAS3', 'NegControlProbe_00016', 'CD38', 'CDH1', 'KCNK3', 'CXCL13', 'NegControlProbe_00024', 'CA4', 'ITGB4', 'FOXJ1', 'UnassignedCodeword_0438', 'UnassignedCodeword_0412', 'ADAM28', 'CD8A', 'LAG3', 'WFS1', 'UnassignedCodeword_0014', 'NegControlProbe_00033', 'NegControlProbe_00022', 'MYO6', 'UBE2C', 'UnassignedCodeword_0457', 'CD70', 'PLVAP', 'TNFRSF13C', 'CTLA4', 'SVEP1', 'CD14', 'NegControlProbe_00013', 'CD163', 'FABP3', 'PEBP4', 'ICA1', 'THY1', 'NegControlProbe_00012', 'CD27', 'ASCL1', 'WT1', 'CD274', 'RGS5', 'IL1RL1', 'NegControlProbe_00003']\n"
     ]
    }
   ],
   "source": [
    "print(common_genes)"
   ]
  },
  {
   "cell_type": "code",
   "execution_count": 18,
   "metadata": {},
   "outputs": [
    {
     "name": "stdout",
     "output_type": "stream",
     "text": [
      "CSV file 'cell_barcodes_mapping.csv' has been saved.\n"
     ]
    }
   ],
   "source": [
    "max_length = max(len(xenium_v1_df.index), len(xenium_v2_df.index))\n",
    "\n",
    "v1_barcodes = pd.Series(xenium_v1_df.index, name=\"Xenium_v1_Cells\").reindex(range(max_length))\n",
    "v2_barcodes = pd.Series(xenium_v2_df.index, name=\"Xenium_v2_Cells\").reindex(range(max_length))\n",
    "\n",
    "cell_mapping_df = pd.DataFrame({\"Xenium_v2_Cells\": v2_barcodes, \"Xenium_v1_Cells\": v1_barcodes})\n",
    "cell_mapping_df.to_csv(\"cell_barcodes_mapping.csv\", index=False)\n",
    "\n",
    "print(\"CSV file 'cell_barcodes_mapping.csv' has been saved.\")"
   ]
  },
  {
   "cell_type": "code",
   "execution_count": null,
   "metadata": {},
   "outputs": [],
   "source": []
  }
 ],
 "metadata": {
  "kernelspec": {
   "display_name": ".venv",
   "language": "python",
   "name": "python3"
  },
  "language_info": {
   "codemirror_mode": {
    "name": "ipython",
    "version": 3
   },
   "file_extension": ".py",
   "mimetype": "text/x-python",
   "name": "python",
   "nbconvert_exporter": "python",
   "pygments_lexer": "ipython3",
   "version": "3.12.8"
  }
 },
 "nbformat": 4,
 "nbformat_minor": 2
}
