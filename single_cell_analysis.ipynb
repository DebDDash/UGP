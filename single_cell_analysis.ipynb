{
 "cells": [
  {
   "cell_type": "code",
   "execution_count": null,
   "id": "ea7ad903",
   "metadata": {},
   "outputs": [],
   "source": [
    "# data - https://www.ncbi.nlm.nih.gov/geo/query/acc.cgi?acc=GSE171524"
   ]
  },
  {
   "cell_type": "code",
   "execution_count": null,
   "id": "24ace10b",
   "metadata": {},
   "outputs": [],
   "source": [
    "!pip install scanpy"
   ]
  },
  {
   "cell_type": "code",
   "execution_count": 2,
   "id": "eceaf51e",
   "metadata": {},
   "outputs": [],
   "source": [
    "import scanpy as sc"
   ]
  },
  {
   "cell_type": "code",
   "execution_count": 3,
   "id": "3907497d",
   "metadata": {},
   "outputs": [
    {
     "data": {
      "text/plain": [
       "AnnData object with n_obs × n_vars = 4513 × 34546"
      ]
     },
     "execution_count": 3,
     "metadata": {},
     "output_type": "execute_result"
    }
   ],
   "source": [
    "# adata = sc.read_csv('raw_counts/GSM5226574_C51ctr_raw_counts.csv').T\n",
    "adata = sc.read_csv('raw_counts/GSM5226575_C52ctr_raw_counts.csv').T\n",
    "adata"
   ]
  },
  {
   "cell_type": "code",
   "execution_count": 4,
   "id": "903104fe",
   "metadata": {},
   "outputs": [
    {
     "data": {
      "text/html": [
       "<div>\n",
       "<style scoped>\n",
       "    .dataframe tbody tr th:only-of-type {\n",
       "        vertical-align: middle;\n",
       "    }\n",
       "\n",
       "    .dataframe tbody tr th {\n",
       "        vertical-align: top;\n",
       "    }\n",
       "\n",
       "    .dataframe thead th {\n",
       "        text-align: right;\n",
       "    }\n",
       "</style>\n",
       "<table border=\"1\" class=\"dataframe\">\n",
       "  <thead>\n",
       "    <tr style=\"text-align: right;\">\n",
       "      <th></th>\n",
       "    </tr>\n",
       "  </thead>\n",
       "  <tbody>\n",
       "    <tr>\n",
       "      <th>CATCGGGCAGCTCATA-1_2</th>\n",
       "    </tr>\n",
       "    <tr>\n",
       "      <th>CACCAAAAGCCACAAG-1_2</th>\n",
       "    </tr>\n",
       "    <tr>\n",
       "      <th>CGAAGGACACTGGCCA-1_2</th>\n",
       "    </tr>\n",
       "    <tr>\n",
       "      <th>GTAGGTTTCAACTGAC-1_2</th>\n",
       "    </tr>\n",
       "    <tr>\n",
       "      <th>CTAACTTGTACACGCC-1_2</th>\n",
       "    </tr>\n",
       "    <tr>\n",
       "      <th>...</th>\n",
       "    </tr>\n",
       "    <tr>\n",
       "      <th>GATGATCTCCGCGGAT-1_2</th>\n",
       "    </tr>\n",
       "    <tr>\n",
       "      <th>TCTCACGAGCTGAAAT-1_2</th>\n",
       "    </tr>\n",
       "    <tr>\n",
       "      <th>ATGAAAGAGAGGCGGA-1_2</th>\n",
       "    </tr>\n",
       "    <tr>\n",
       "      <th>GATCAGTGTTTCGATG-1_2</th>\n",
       "    </tr>\n",
       "    <tr>\n",
       "      <th>CCGTGAGTCCAGCTCT-1_2</th>\n",
       "    </tr>\n",
       "  </tbody>\n",
       "</table>\n",
       "<p>4513 rows × 0 columns</p>\n",
       "</div>"
      ],
      "text/plain": [
       "Empty DataFrame\n",
       "Columns: []\n",
       "Index: [CATCGGGCAGCTCATA-1_2, CACCAAAAGCCACAAG-1_2, CGAAGGACACTGGCCA-1_2, GTAGGTTTCAACTGAC-1_2, CTAACTTGTACACGCC-1_2, CCTGCATAGTCATGGG-1_2, TAACCAGTCCGGCAGT-1_2, GCCCGAACAGACGGAT-1_2, TCATTCATCCAGCACG-1_2, TGGTACATCGCCTATC-1_2, GGAGGTACAACCTATG-1_2, CTACATTAGTGATTCC-1_2, TTCTAACTCCGCAAAT-1_2, CCGAACGGTGGTCCGT-1_2, CTGGCAGCATACCGTA-1_2, AACAACCGTAACTGCT-1_2, ATCGCCTTCACCTCTG-1_2, CCGGGTACACCAGTAT-1_2, GGCACGTGTTGTAGCT-1_2, GACATCATCACTTCTA-1_2, GTGACGCGTCTTGGTA-1_2, CCCTGATTCCATATGG-1_2, AAGTGAAGTCTGTGAT-1_2, ATCCTATCAATCACGT-1_2, GCCATGGGTGGTCTGC-1_2, AATGCCATCCGCAACG-1_2, GCCATGGAGTGCCGAA-1_2, GGGACAACAGAACCGA-1_2, AGATGAACACTAACGT-1_2, CTCCCAACACTACCCT-1_2, CTCATCGCAATACGAA-1_2, TCCATCGCAACTCCAA-1_2, TTGACCCCACCTCAGG-1_2, CACAACATCGCACTCT-1_2, ATCCACCTCGAGAGAC-1_2, TTCTCTCCAAGAGTTA-1_2, ACATCGATCTTTCAGT-1_2, ACCCTTGTCTAGCCAA-1_2, ACGTACATCGGCATCG-1_2, AGGCATTGTGGGTTGA-1_2, TCCAGAAGTAGCCCTG-1_2, ATGCATGCAGTAACAA-1_2, CTGGTCTTCCATGCAA-1_2, GTGATGTAGAAGGATG-1_2, ATTGTTCAGTTGAATG-1_2, TATCGCCTCGGTAACT-1_2, TAACCAGTCTCCGAGG-1_2, ATCTTCAAGTTAGTAG-1_2, TCATTGTGTGTGAATA-1_2, CCGTAGGGTGCATCTA-1_2, CAACCAATCTCAGGCG-1_2, AACCACAGTGATAGTA-1_2, AGACCCGAGTCAGGGT-1_2, CGCATAACATTCCTCG-1_2, TCTACATTCTTTGCTA-1_2, TCACTATTCGAATCCA-1_2, AACGGGAGTTGAGAGC-1_2, AGTCAACGTGACAGCA-1_2, AACCAACGTGTTCAGT-1_2, AGGATAAAGCCGCACT-1_2, GACCAATCAGACACCC-1_2, ATCCTATTCTTTCCAA-1_2, TCATTACGTCATCGGC-1_2, GTCACGGTCATCGCTC-1_2, TTCCTAAGTAAGATAC-1_2, CACGTGGCAAGGTTGG-1_2, AGGTTGTCACCGTGGT-1_2, TAGGTACAGGTTGTTC-1_2, GGGAGATCAGCAGTCC-1_2, GCAGGCTTCACCTCTG-1_2, TCACAAGTCGGAATTC-1_2, TGTCCCAAGCGTGAAC-1_2, TGCACGGAGTTTGTCG-1_2, ATTTACCCAAAGGGCT-1_2, TACCTGCAGCATCCCG-1_2, ATTACTCTCCGGCAAC-1_2, AGTTCCCGTCACGTGC-1_2, TATATCCAGCTCCCTT-1_2, CAATACGCACCCTGTT-1_2, CAGGGCTTCACGACTA-1_2, TGAGCGCCAACTAGAA-1_2, TGGTGATTCCTCAGGG-1_2, AGACTCAGTGAGAGGG-1_2, TACATTCTCGCCGAAC-1_2, CACAGGCTCTCATGCC-1_2, TACCTGCCAGGGTCTC-1_2, CGGGTGTTCTCGGTAA-1_2, CATTTCACATGTGGCC-1_2, TCAATCTGTAACAGGC-1_2, TTACGTTGTAAGACCG-1_2, ATAGACCTCGACGATT-1_2, GTCACGGCAGAAGCGT-1_2, AACCACACACATTACG-1_2, TTGAACGGTTACTCAG-1_2, TCTGCCATCTCCGATC-1_2, AGACAGGAGGCTGGAT-1_2, CAACGGCTCACCCTCA-1_2, TATATCCAGGCACTCC-1_2, TCATTGTCAGATCACT-1_2, ACAACCAGTGGATGAC-1_2, ...]\n",
       "\n",
       "[4513 rows x 0 columns]"
      ]
     },
     "execution_count": 4,
     "metadata": {},
     "output_type": "execute_result"
    }
   ],
   "source": [
    "# cell barcodes\n",
    "adata.obs"
   ]
  },
  {
   "cell_type": "code",
   "execution_count": 5,
   "id": "bc048011",
   "metadata": {},
   "outputs": [
    {
     "data": {
      "text/html": [
       "<div>\n",
       "<style scoped>\n",
       "    .dataframe tbody tr th:only-of-type {\n",
       "        vertical-align: middle;\n",
       "    }\n",
       "\n",
       "    .dataframe tbody tr th {\n",
       "        vertical-align: top;\n",
       "    }\n",
       "\n",
       "    .dataframe thead th {\n",
       "        text-align: right;\n",
       "    }\n",
       "</style>\n",
       "<table border=\"1\" class=\"dataframe\">\n",
       "  <thead>\n",
       "    <tr style=\"text-align: right;\">\n",
       "      <th></th>\n",
       "    </tr>\n",
       "  </thead>\n",
       "  <tbody>\n",
       "    <tr>\n",
       "      <th>AL627309.1</th>\n",
       "    </tr>\n",
       "    <tr>\n",
       "      <th>AL627309.5</th>\n",
       "    </tr>\n",
       "    <tr>\n",
       "      <th>AL627309.4</th>\n",
       "    </tr>\n",
       "    <tr>\n",
       "      <th>AL669831.2</th>\n",
       "    </tr>\n",
       "    <tr>\n",
       "      <th>LINC01409</th>\n",
       "    </tr>\n",
       "    <tr>\n",
       "      <th>...</th>\n",
       "    </tr>\n",
       "    <tr>\n",
       "      <th>VN1R2</th>\n",
       "    </tr>\n",
       "    <tr>\n",
       "      <th>AL031676.1</th>\n",
       "    </tr>\n",
       "    <tr>\n",
       "      <th>SMIM34A</th>\n",
       "    </tr>\n",
       "    <tr>\n",
       "      <th>AL050402.1</th>\n",
       "    </tr>\n",
       "    <tr>\n",
       "      <th>AL445072.1</th>\n",
       "    </tr>\n",
       "  </tbody>\n",
       "</table>\n",
       "<p>34546 rows × 0 columns</p>\n",
       "</div>"
      ],
      "text/plain": [
       "Empty DataFrame\n",
       "Columns: []\n",
       "Index: [AL627309.1, AL627309.5, AL627309.4, AL669831.2, LINC01409, FAM87B, LINC01128, LINC00115, FAM41C, AL645608.6, AL645608.2, LINC02593, SAMD11, NOC2L, KLHL17, PLEKHN1, PERM1, AL645608.7, HES4, ISG15, AL645608.1, AGRN, C1orf159, AL390719.3, LINC01342, AL390719.2, TTLL10-AS1, TTLL10, TNFRSF18, TNFRSF4, SDF4, B3GALT6, C1QTNF12, UBE2J2, LINC01786, SCNN1D, ACAP3, PUSL1, INTS11, AL139287.1, CPTP, DVL1, MXRA8, AURKAIP1, CCNL2, MRPL20-AS1, MRPL20, AL391244.2, ANKRD65, AL391244.1, LINC01770, VWA1, ATAD3C, ATAD3B, ATAD3A, TMEM240, SSU72, AL645728.1, FNDC10, AL691432.4, AL691432.2, MIB2, MMP23B, CDK11B, FO704657.1, SLC35E2B, CDK11A, SLC35E2A, NADK, GNB1, AL109917.1, CALML6, TMEM52, CFAP74, GABRD, AL391845.1, PRKCZ, AL590822.2, PRKCZ-AS1, FAAP20, AL590822.1, SKI, AL590822.3, MORN1, AL589739.1, AL513477.2, RER1, PEX10, PLCH2, AL139246.4, PANK4, HES5, AL139246.5, TNFRSF14-AS1, TNFRSF14, AL139246.3, PRXL2B, MMEL1, TTC34, AC242022.2, ...]\n",
       "\n",
       "[34546 rows x 0 columns]"
      ]
     },
     "execution_count": 5,
     "metadata": {},
     "output_type": "execute_result"
    }
   ],
   "source": [
    "#genes with no additional information\n",
    "adata.var"
   ]
  },
  {
   "cell_type": "code",
   "execution_count": 6,
   "id": "67d5011f",
   "metadata": {},
   "outputs": [
    {
     "data": {
      "text/plain": [
       "array([[0., 0., 0., ..., 0., 0., 0.],\n",
       "       [0., 0., 0., ..., 0., 0., 0.],\n",
       "       [0., 0., 0., ..., 0., 0., 0.],\n",
       "       ...,\n",
       "       [0., 0., 0., ..., 0., 0., 0.],\n",
       "       [0., 0., 0., ..., 0., 0., 0.],\n",
       "       [0., 0., 0., ..., 0., 0., 0.]], dtype=float32)"
      ]
     },
     "execution_count": 6,
     "metadata": {},
     "output_type": "execute_result"
    }
   ],
   "source": [
    "#counts\n",
    "adata.X"
   ]
  },
  {
   "cell_type": "code",
   "execution_count": 7,
   "id": "47d94388",
   "metadata": {},
   "outputs": [
    {
     "data": {
      "text/plain": [
       "(4513, 34546)"
      ]
     },
     "execution_count": 7,
     "metadata": {},
     "output_type": "execute_result"
    }
   ],
   "source": [
    "adata.X.shape"
   ]
  },
  {
   "cell_type": "markdown",
   "id": "72532d63",
   "metadata": {},
   "source": [
    "# Doublet removal - optional but preferred"
   ]
  },
  {
   "cell_type": "code",
   "execution_count": 14,
   "id": "8200c0f7",
   "metadata": {},
   "outputs": [
    {
     "name": "stdout",
     "output_type": "stream",
     "text": [
      "Collecting scvi-tools\n",
      "  Downloading scvi_tools-1.2.2.post2-py3-none-any.whl.metadata (17 kB)\n",
      "Requirement already satisfied: anndata>=0.11 in /Users/denshi/Code/UGP/.venv/lib/python3.12/site-packages (from scvi-tools) (0.11.2)\n",
      "Requirement already satisfied: docrep>=0.3.2 in /Users/denshi/Code/UGP/.venv/lib/python3.12/site-packages (from scvi-tools) (0.3.2)\n",
      "Collecting flax (from scvi-tools)\n",
      "  Downloading flax-0.10.2-py3-none-any.whl.metadata (11 kB)\n",
      "Collecting jax (from scvi-tools)\n",
      "  Downloading jax-0.4.38-py3-none-any.whl.metadata (22 kB)\n",
      "Collecting jaxlib (from scvi-tools)\n",
      "  Downloading jaxlib-0.4.38-cp312-cp312-macosx_11_0_arm64.whl.metadata (1.0 kB)\n",
      "Collecting lightning>=2.0 (from scvi-tools)\n",
      "  Downloading lightning-2.5.0.post0-py3-none-any.whl.metadata (40 kB)\n",
      "Collecting ml-collections>=0.1.1 (from scvi-tools)\n",
      "  Downloading ml_collections-1.0.0-py3-none-any.whl.metadata (22 kB)\n",
      "Collecting mudata>=0.1.2 (from scvi-tools)\n",
      "  Downloading mudata-0.3.1-py3-none-any.whl.metadata (8.3 kB)\n",
      "Requirement already satisfied: numba>=0.60.0 in /Users/denshi/Code/UGP/.venv/lib/python3.12/site-packages (from scvi-tools) (0.60.0)\n",
      "Requirement already satisfied: numpy in /Users/denshi/Code/UGP/.venv/lib/python3.12/site-packages (from scvi-tools) (2.0.2)\n",
      "Collecting numpyro>=0.12.1 (from scvi-tools)\n",
      "  Downloading numpyro-0.16.1-py3-none-any.whl.metadata (36 kB)\n",
      "Collecting optax (from scvi-tools)\n",
      "  Downloading optax-0.2.4-py3-none-any.whl.metadata (8.3 kB)\n",
      "Requirement already satisfied: pandas in /Users/denshi/Code/UGP/.venv/lib/python3.12/site-packages (from scvi-tools) (2.2.3)\n",
      "Collecting pyro-ppl>=1.6.0 (from scvi-tools)\n",
      "  Downloading pyro_ppl-1.9.1-py3-none-any.whl.metadata (7.8 kB)\n",
      "Requirement already satisfied: rich>=12.0.0 in /Users/denshi/Code/UGP/.venv/lib/python3.12/site-packages (from scvi-tools) (13.9.4)\n",
      "Requirement already satisfied: scikit-learn>=0.21.2 in /Users/denshi/Code/UGP/.venv/lib/python3.12/site-packages (from scvi-tools) (1.6.0)\n",
      "Requirement already satisfied: scipy in /Users/denshi/Code/UGP/.venv/lib/python3.12/site-packages (from scvi-tools) (1.15.0)\n",
      "Collecting sparse>=0.14.0 (from scvi-tools)\n",
      "  Downloading sparse-0.15.4-py2.py3-none-any.whl.metadata (4.5 kB)\n",
      "Collecting tensorboard>=2.0 (from scvi-tools)\n",
      "  Downloading tensorboard-2.18.0-py3-none-any.whl.metadata (1.6 kB)\n",
      "Collecting torch (from scvi-tools)\n",
      "  Downloading torch-2.5.1-cp312-none-macosx_11_0_arm64.whl.metadata (28 kB)\n",
      "Collecting torchmetrics>=0.11.0 (from scvi-tools)\n",
      "  Downloading torchmetrics-1.6.1-py3-none-any.whl.metadata (21 kB)\n",
      "Requirement already satisfied: tqdm in /Users/denshi/Code/UGP/.venv/lib/python3.12/site-packages (from scvi-tools) (4.67.1)\n",
      "Requirement already satisfied: xarray>=2023.2.0 in /Users/denshi/Code/UGP/.venv/lib/python3.12/site-packages (from scvi-tools) (2024.7.0)\n",
      "Requirement already satisfied: array-api-compat!=1.5,>1.4 in /Users/denshi/Code/UGP/.venv/lib/python3.12/site-packages (from anndata>=0.11->scvi-tools) (1.10.0)\n",
      "Requirement already satisfied: h5py>=3.7 in /Users/denshi/Code/UGP/.venv/lib/python3.12/site-packages (from anndata>=0.11->scvi-tools) (3.12.1)\n",
      "Requirement already satisfied: natsort in /Users/denshi/Code/UGP/.venv/lib/python3.12/site-packages (from anndata>=0.11->scvi-tools) (8.4.0)\n",
      "Requirement already satisfied: packaging>=20.0 in /Users/denshi/Code/UGP/.venv/lib/python3.12/site-packages (from anndata>=0.11->scvi-tools) (24.2)\n",
      "Requirement already satisfied: six in /Users/denshi/Code/UGP/.venv/lib/python3.12/site-packages (from docrep>=0.3.2->scvi-tools) (1.17.0)\n",
      "Requirement already satisfied: PyYAML<8.0,>=5.4 in /Users/denshi/Code/UGP/.venv/lib/python3.12/site-packages (from lightning>=2.0->scvi-tools) (6.0.2)\n",
      "Requirement already satisfied: fsspec<2026.0,>=2022.5.0 in /Users/denshi/Code/UGP/.venv/lib/python3.12/site-packages (from fsspec[http]<2026.0,>=2022.5.0->lightning>=2.0->scvi-tools) (2023.6.0)\n",
      "Collecting lightning-utilities<2.0,>=0.10.0 (from lightning>=2.0->scvi-tools)\n",
      "  Downloading lightning_utilities-0.11.9-py3-none-any.whl.metadata (5.2 kB)\n",
      "Requirement already satisfied: typing-extensions<6.0,>=4.4.0 in /Users/denshi/Code/UGP/.venv/lib/python3.12/site-packages (from lightning>=2.0->scvi-tools) (4.12.2)\n",
      "Collecting pytorch-lightning (from lightning>=2.0->scvi-tools)\n",
      "  Downloading pytorch_lightning-2.5.0.post0-py3-none-any.whl.metadata (21 kB)\n",
      "Collecting absl-py (from ml-collections>=0.1.1->scvi-tools)\n",
      "  Downloading absl_py-2.1.0-py3-none-any.whl.metadata (2.3 kB)\n",
      "Requirement already satisfied: llvmlite<0.44,>=0.43.0dev0 in /Users/denshi/Code/UGP/.venv/lib/python3.12/site-packages (from numba>=0.60.0->scvi-tools) (0.43.0)\n",
      "Requirement already satisfied: multipledispatch in /Users/denshi/Code/UGP/.venv/lib/python3.12/site-packages (from numpyro>=0.12.1->scvi-tools) (1.0.0)\n",
      "Collecting ml_dtypes>=0.4.0 (from jax->scvi-tools)\n",
      "  Downloading ml_dtypes-0.5.1-cp312-cp312-macosx_10_9_universal2.whl.metadata (21 kB)\n",
      "Collecting opt_einsum (from jax->scvi-tools)\n",
      "  Downloading opt_einsum-3.4.0-py3-none-any.whl.metadata (6.3 kB)\n",
      "Requirement already satisfied: python-dateutil>=2.8.2 in /Users/denshi/Code/UGP/.venv/lib/python3.12/site-packages (from pandas->scvi-tools) (2.9.0.post0)\n",
      "Requirement already satisfied: pytz>=2020.1 in /Users/denshi/Code/UGP/.venv/lib/python3.12/site-packages (from pandas->scvi-tools) (2024.2)\n",
      "Requirement already satisfied: tzdata>=2022.7 in /Users/denshi/Code/UGP/.venv/lib/python3.12/site-packages (from pandas->scvi-tools) (2024.2)\n",
      "Collecting pyro-api>=0.1.1 (from pyro-ppl>=1.6.0->scvi-tools)\n",
      "  Downloading pyro_api-0.1.2-py3-none-any.whl.metadata (2.5 kB)\n",
      "Requirement already satisfied: markdown-it-py>=2.2.0 in /Users/denshi/Code/UGP/.venv/lib/python3.12/site-packages (from rich>=12.0.0->scvi-tools) (3.0.0)\n",
      "Requirement already satisfied: pygments<3.0.0,>=2.13.0 in /Users/denshi/Code/UGP/.venv/lib/python3.12/site-packages (from rich>=12.0.0->scvi-tools) (2.19.1)\n",
      "Requirement already satisfied: joblib>=1.2.0 in /Users/denshi/Code/UGP/.venv/lib/python3.12/site-packages (from scikit-learn>=0.21.2->scvi-tools) (1.4.2)\n",
      "Requirement already satisfied: threadpoolctl>=3.1.0 in /Users/denshi/Code/UGP/.venv/lib/python3.12/site-packages (from scikit-learn>=0.21.2->scvi-tools) (3.5.0)\n",
      "Collecting grpcio>=1.48.2 (from tensorboard>=2.0->scvi-tools)\n",
      "  Downloading grpcio-1.69.0-cp312-cp312-macosx_10_14_universal2.whl.metadata (3.9 kB)\n",
      "Collecting markdown>=2.6.8 (from tensorboard>=2.0->scvi-tools)\n",
      "  Downloading Markdown-3.7-py3-none-any.whl.metadata (7.0 kB)\n",
      "Collecting protobuf!=4.24.0,>=3.19.6 (from tensorboard>=2.0->scvi-tools)\n",
      "  Downloading protobuf-5.29.3-cp38-abi3-macosx_10_9_universal2.whl.metadata (592 bytes)\n",
      "Requirement already satisfied: setuptools>=41.0.0 in /Users/denshi/Code/UGP/.venv/lib/python3.12/site-packages (from tensorboard>=2.0->scvi-tools) (75.7.0)\n",
      "Collecting tensorboard-data-server<0.8.0,>=0.7.0 (from tensorboard>=2.0->scvi-tools)\n",
      "  Downloading tensorboard_data_server-0.7.2-py3-none-any.whl.metadata (1.1 kB)\n",
      "Collecting werkzeug>=1.0.1 (from tensorboard>=2.0->scvi-tools)\n",
      "  Downloading werkzeug-3.1.3-py3-none-any.whl.metadata (3.7 kB)\n",
      "Collecting filelock (from torch->scvi-tools)\n",
      "  Downloading filelock-3.16.1-py3-none-any.whl.metadata (2.9 kB)\n",
      "Requirement already satisfied: networkx in /Users/denshi/Code/UGP/.venv/lib/python3.12/site-packages (from torch->scvi-tools) (3.4.2)\n",
      "Requirement already satisfied: jinja2 in /Users/denshi/Code/UGP/.venv/lib/python3.12/site-packages (from torch->scvi-tools) (3.1.5)\n",
      "Collecting sympy==1.13.1 (from torch->scvi-tools)\n",
      "  Downloading sympy-1.13.1-py3-none-any.whl.metadata (12 kB)\n",
      "Collecting mpmath<1.4,>=1.1.0 (from sympy==1.13.1->torch->scvi-tools)\n",
      "  Downloading mpmath-1.3.0-py3-none-any.whl.metadata (8.6 kB)\n",
      "Requirement already satisfied: msgpack in /Users/denshi/Code/UGP/.venv/lib/python3.12/site-packages (from flax->scvi-tools) (1.1.0)\n",
      "Collecting orbax-checkpoint (from flax->scvi-tools)\n",
      "  Downloading orbax_checkpoint-0.11.0-py3-none-any.whl.metadata (1.9 kB)\n",
      "Collecting tensorstore (from flax->scvi-tools)\n",
      "  Downloading tensorstore-0.1.71-cp312-cp312-macosx_11_0_arm64.whl.metadata (21 kB)\n",
      "Collecting chex>=0.1.87 (from optax->scvi-tools)\n",
      "  Downloading chex-0.1.88-py3-none-any.whl.metadata (17 kB)\n",
      "Collecting etils[epy] (from optax->scvi-tools)\n",
      "  Downloading etils-1.11.0-py3-none-any.whl.metadata (6.5 kB)\n",
      "Requirement already satisfied: toolz>=0.9.0 in /Users/denshi/Code/UGP/.venv/lib/python3.12/site-packages (from chex>=0.1.87->optax->scvi-tools) (1.0.0)\n",
      "Requirement already satisfied: requests in /Users/denshi/Code/UGP/.venv/lib/python3.12/site-packages (from fsspec[http]<2026.0,>=2022.5.0->lightning>=2.0->scvi-tools) (2.32.3)\n",
      "Requirement already satisfied: aiohttp!=4.0.0a0,!=4.0.0a1 in /Users/denshi/Code/UGP/.venv/lib/python3.12/site-packages (from fsspec[http]<2026.0,>=2022.5.0->lightning>=2.0->scvi-tools) (3.11.11)\n",
      "Requirement already satisfied: mdurl~=0.1 in /Users/denshi/Code/UGP/.venv/lib/python3.12/site-packages (from markdown-it-py>=2.2.0->rich>=12.0.0->scvi-tools) (0.1.2)\n",
      "Requirement already satisfied: MarkupSafe>=2.1.1 in /Users/denshi/Code/UGP/.venv/lib/python3.12/site-packages (from werkzeug>=1.0.1->tensorboard>=2.0->scvi-tools) (3.0.2)\n",
      "Requirement already satisfied: nest_asyncio in /Users/denshi/Code/UGP/.venv/lib/python3.12/site-packages (from orbax-checkpoint->flax->scvi-tools) (1.6.0)\n",
      "Collecting humanize (from orbax-checkpoint->flax->scvi-tools)\n",
      "  Downloading humanize-4.11.0-py3-none-any.whl.metadata (7.8 kB)\n",
      "Collecting simplejson>=3.16.0 (from orbax-checkpoint->flax->scvi-tools)\n",
      "  Downloading simplejson-3.19.3-cp312-cp312-macosx_11_0_arm64.whl.metadata (3.2 kB)\n",
      "Requirement already satisfied: aiohappyeyeballs>=2.3.0 in /Users/denshi/Code/UGP/.venv/lib/python3.12/site-packages (from aiohttp!=4.0.0a0,!=4.0.0a1->fsspec[http]<2026.0,>=2022.5.0->lightning>=2.0->scvi-tools) (2.4.4)\n",
      "Requirement already satisfied: aiosignal>=1.1.2 in /Users/denshi/Code/UGP/.venv/lib/python3.12/site-packages (from aiohttp!=4.0.0a0,!=4.0.0a1->fsspec[http]<2026.0,>=2022.5.0->lightning>=2.0->scvi-tools) (1.3.2)\n",
      "Requirement already satisfied: attrs>=17.3.0 in /Users/denshi/Code/UGP/.venv/lib/python3.12/site-packages (from aiohttp!=4.0.0a0,!=4.0.0a1->fsspec[http]<2026.0,>=2022.5.0->lightning>=2.0->scvi-tools) (24.3.0)\n",
      "Requirement already satisfied: frozenlist>=1.1.1 in /Users/denshi/Code/UGP/.venv/lib/python3.12/site-packages (from aiohttp!=4.0.0a0,!=4.0.0a1->fsspec[http]<2026.0,>=2022.5.0->lightning>=2.0->scvi-tools) (1.5.0)\n",
      "Requirement already satisfied: multidict<7.0,>=4.5 in /Users/denshi/Code/UGP/.venv/lib/python3.12/site-packages (from aiohttp!=4.0.0a0,!=4.0.0a1->fsspec[http]<2026.0,>=2022.5.0->lightning>=2.0->scvi-tools) (6.1.0)\n",
      "Requirement already satisfied: propcache>=0.2.0 in /Users/denshi/Code/UGP/.venv/lib/python3.12/site-packages (from aiohttp!=4.0.0a0,!=4.0.0a1->fsspec[http]<2026.0,>=2022.5.0->lightning>=2.0->scvi-tools) (0.2.1)\n",
      "Requirement already satisfied: yarl<2.0,>=1.17.0 in /Users/denshi/Code/UGP/.venv/lib/python3.12/site-packages (from aiohttp!=4.0.0a0,!=4.0.0a1->fsspec[http]<2026.0,>=2022.5.0->lightning>=2.0->scvi-tools) (1.18.3)\n",
      "Collecting importlib_resources (from etils[epy]->optax->scvi-tools)\n",
      "  Downloading importlib_resources-6.5.2-py3-none-any.whl.metadata (3.9 kB)\n",
      "Collecting zipp (from etils[epy]->optax->scvi-tools)\n",
      "  Downloading zipp-3.21.0-py3-none-any.whl.metadata (3.7 kB)\n",
      "Requirement already satisfied: charset-normalizer<4,>=2 in /Users/denshi/Code/UGP/.venv/lib/python3.12/site-packages (from requests->fsspec[http]<2026.0,>=2022.5.0->lightning>=2.0->scvi-tools) (3.4.1)\n",
      "Requirement already satisfied: idna<4,>=2.5 in /Users/denshi/Code/UGP/.venv/lib/python3.12/site-packages (from requests->fsspec[http]<2026.0,>=2022.5.0->lightning>=2.0->scvi-tools) (3.10)\n",
      "Requirement already satisfied: urllib3<3,>=1.21.1 in /Users/denshi/Code/UGP/.venv/lib/python3.12/site-packages (from requests->fsspec[http]<2026.0,>=2022.5.0->lightning>=2.0->scvi-tools) (1.26.20)\n",
      "Requirement already satisfied: certifi>=2017.4.17 in /Users/denshi/Code/UGP/.venv/lib/python3.12/site-packages (from requests->fsspec[http]<2026.0,>=2022.5.0->lightning>=2.0->scvi-tools) (2024.12.14)\n",
      "Downloading scvi_tools-1.2.2.post2-py3-none-any.whl (459 kB)\n",
      "Downloading lightning-2.5.0.post0-py3-none-any.whl (815 kB)\n",
      "\u001b[2K   \u001b[38;2;114;156;31m━━━━━━━━━━━━━━━━━━━━━━━━━━━━━━━━━━━━━━━\u001b[0m \u001b[32m815.2/815.2 kB\u001b[0m \u001b[31m456.6 kB/s\u001b[0m eta \u001b[36m0:00:00\u001b[0m kB/s\u001b[0m eta \u001b[36m0:00:01\u001b[0m\n",
      "\u001b[?25hDownloading ml_collections-1.0.0-py3-none-any.whl (76 kB)\n",
      "Downloading mudata-0.3.1-py3-none-any.whl (41 kB)\n",
      "Downloading numpyro-0.16.1-py3-none-any.whl (356 kB)\n",
      "Downloading jax-0.4.38-py3-none-any.whl (2.2 MB)\n",
      "\u001b[2K   \u001b[38;2;114;156;31m━━━━━━━━━━━━━━━━━━━━━━━━━━━━━━━━━━━━━━━━\u001b[0m \u001b[32m2.2/2.2 MB\u001b[0m \u001b[31m1.4 MB/s\u001b[0m eta \u001b[36m0:00:00\u001b[0m[31m1.5 MB/s\u001b[0m eta \u001b[36m0:00:01\u001b[0m\n",
      "\u001b[?25hDownloading jaxlib-0.4.38-cp312-cp312-macosx_11_0_arm64.whl (79.5 MB)\n",
      "\u001b[2K   \u001b[38;2;114;156;31m━━━━━━━━━━━━━━━━━━━━━━━━━━━━━━━━━━━━━━━━\u001b[0m \u001b[32m79.5/79.5 MB\u001b[0m \u001b[31m545.8 kB/s\u001b[0m eta \u001b[36m0:00:00\u001b[0mm eta \u001b[36m0:00:01\u001b[0m[36m0:00:05\u001b[0m\n",
      "\u001b[?25hDownloading pyro_ppl-1.9.1-py3-none-any.whl (755 kB)\n",
      "\u001b[2K   \u001b[38;2;114;156;31m━━━━━━━━━━━━━━━━━━━━━━━━━━━━━━━━━━━━━━━━\u001b[0m \u001b[32m756.0/756.0 kB\u001b[0m \u001b[31m1.4 MB/s\u001b[0m eta \u001b[36m0:00:00\u001b[0m[31m1.4 MB/s\u001b[0m eta \u001b[36m0:00:01\u001b[0m\n",
      "\u001b[?25hDownloading sparse-0.15.4-py2.py3-none-any.whl (237 kB)\n",
      "Downloading tensorboard-2.18.0-py3-none-any.whl (5.5 MB)\n",
      "\u001b[2K   \u001b[38;2;114;156;31m━━━━━━━━━━━━━━━━━━━━━━━━━━━━━━━━━━━━━━━━\u001b[0m \u001b[32m5.5/5.5 MB\u001b[0m \u001b[31m794.5 kB/s\u001b[0m eta \u001b[36m0:00:00\u001b[0m kB/s\u001b[0m eta \u001b[36m0:00:01\u001b[0m2\u001b[0m0m\n",
      "\u001b[?25hDownloading torch-2.5.1-cp312-none-macosx_11_0_arm64.whl (63.9 MB)\n",
      "\u001b[2K   \u001b[38;2;114;156;31m━━━━━━━━━━━━━━━━━━━━━━━━━━━━━━━━━━━━━━━━\u001b[0m \u001b[32m63.9/63.9 MB\u001b[0m \u001b[31m953.9 kB/s\u001b[0m eta \u001b[36m0:00:00\u001b[0mm eta \u001b[36m0:00:01\u001b[0m[36m0:00:02\u001b[0m\n",
      "\u001b[?25hDownloading sympy-1.13.1-py3-none-any.whl (6.2 MB)\n",
      "\u001b[2K   \u001b[38;2;114;156;31m━━━━━━━━━━━━━━━━━━━━━━━━━━━━━━━━━━━━━━━━\u001b[0m \u001b[32m6.2/6.2 MB\u001b[0m \u001b[31m758.7 kB/s\u001b[0m eta \u001b[36m0:00:00\u001b[0m1m753.7 kB/s\u001b[0m eta \u001b[36m0:00:01\u001b[0m\n",
      "\u001b[?25hDownloading torchmetrics-1.6.1-py3-none-any.whl (927 kB)\n",
      "\u001b[2K   \u001b[38;2;114;156;31m━━━━━━━━━━━━━━━━━━━━━━━━━━━━━━━━━━━━━━━━\u001b[0m \u001b[32m927.3/927.3 kB\u001b[0m \u001b[31m1.5 MB/s\u001b[0m eta \u001b[36m0:00:00\u001b[0m[31m1.6 MB/s\u001b[0m eta \u001b[36m0:00:01\u001b[0m\n",
      "\u001b[?25hDownloading flax-0.10.2-py3-none-any.whl (424 kB)\n",
      "Downloading optax-0.2.4-py3-none-any.whl (319 kB)\n",
      "Downloading absl_py-2.1.0-py3-none-any.whl (133 kB)\n",
      "Downloading chex-0.1.88-py3-none-any.whl (99 kB)\n",
      "Downloading grpcio-1.69.0-cp312-cp312-macosx_10_14_universal2.whl (11.1 MB)\n",
      "\u001b[2K   \u001b[38;2;114;156;31m━━━━━━━━━━━━━━━━━━━━━━━━━━━━━━━━━━━━━━━━\u001b[0m \u001b[32m11.1/11.1 MB\u001b[0m \u001b[31m797.6 kB/s\u001b[0m eta \u001b[36m0:00:00\u001b[0m1m787.6 kB/s\u001b[0m eta \u001b[36m0:00:01\u001b[0m\n",
      "\u001b[?25hDownloading lightning_utilities-0.11.9-py3-none-any.whl (28 kB)\n",
      "Downloading Markdown-3.7-py3-none-any.whl (106 kB)\n",
      "Downloading ml_dtypes-0.5.1-cp312-cp312-macosx_10_9_universal2.whl (670 kB)\n",
      "\u001b[2K   \u001b[38;2;114;156;31m━━━━━━━━━━━━━━━━━━━━━━━━━━━━━━━━━━━━━━━━\u001b[0m \u001b[32m670.4/670.4 kB\u001b[0m \u001b[31m1.4 MB/s\u001b[0m eta \u001b[36m0:00:00\u001b[0m MB/s\u001b[0m eta \u001b[36m0:00:01\u001b[0m\n",
      "\u001b[?25hDownloading opt_einsum-3.4.0-py3-none-any.whl (71 kB)\n",
      "Downloading protobuf-5.29.3-cp38-abi3-macosx_10_9_universal2.whl (417 kB)\n",
      "Downloading pyro_api-0.1.2-py3-none-any.whl (11 kB)\n",
      "Downloading tensorboard_data_server-0.7.2-py3-none-any.whl (2.4 kB)\n",
      "Downloading werkzeug-3.1.3-py3-none-any.whl (224 kB)\n",
      "Downloading filelock-3.16.1-py3-none-any.whl (16 kB)\n",
      "Downloading orbax_checkpoint-0.11.0-py3-none-any.whl (360 kB)\n",
      "Downloading tensorstore-0.1.71-cp312-cp312-macosx_11_0_arm64.whl (13.1 MB)\n",
      "\u001b[2K   \u001b[38;2;114;156;31m━━━━━━━━━━━━━━━━━━━━━━━━━━━━━━━━━━━━━━━━\u001b[0m \u001b[32m13.1/13.1 MB\u001b[0m \u001b[31m929.9 kB/s\u001b[0m eta \u001b[36m0:00:00\u001b[0mm eta \u001b[36m0:00:01\u001b[0m0:01\u001b[0m:01\u001b[0m\n",
      "\u001b[?25hDownloading pytorch_lightning-2.5.0.post0-py3-none-any.whl (819 kB)\n",
      "\u001b[2K   \u001b[38;2;114;156;31m━━━━━━━━━━━━━━━━━━━━━━━━━━━━━━━━━━━━━━━━\u001b[0m \u001b[32m819.3/819.3 kB\u001b[0m \u001b[31m1.5 MB/s\u001b[0m eta \u001b[36m0:00:00\u001b[0m[31m1.5 MB/s\u001b[0m eta \u001b[36m0:00:01\u001b[0m\n",
      "\u001b[?25hDownloading mpmath-1.3.0-py3-none-any.whl (536 kB)\n",
      "\u001b[2K   \u001b[38;2;114;156;31m━━━━━━━━━━━━━━━━━━━━━━━━━━━━━━━━━━━━━━━\u001b[0m \u001b[32m536.2/536.2 kB\u001b[0m \u001b[31m625.5 kB/s\u001b[0m eta \u001b[36m0:00:00\u001b[0m31m?\u001b[0m eta \u001b[36m-:--:--\u001b[0m\n",
      "\u001b[?25hDownloading simplejson-3.19.3-cp312-cp312-macosx_11_0_arm64.whl (74 kB)\n",
      "Downloading etils-1.11.0-py3-none-any.whl (165 kB)\n",
      "Downloading humanize-4.11.0-py3-none-any.whl (128 kB)\n",
      "Downloading importlib_resources-6.5.2-py3-none-any.whl (37 kB)\n",
      "Downloading zipp-3.21.0-py3-none-any.whl (9.6 kB)\n",
      "Installing collected packages: pyro-api, mpmath, zipp, werkzeug, tensorboard-data-server, sympy, simplejson, protobuf, opt_einsum, ml_dtypes, markdown, lightning-utilities, importlib_resources, humanize, grpcio, filelock, etils, absl-py, torch, tensorstore, tensorboard, sparse, ml-collections, jaxlib, torchmetrics, pyro-ppl, jax, pytorch-lightning, orbax-checkpoint, numpyro, mudata, chex, optax, lightning, flax, scvi-tools\n",
      "Successfully installed absl-py-2.1.0 chex-0.1.88 etils-1.11.0 filelock-3.16.1 flax-0.10.2 grpcio-1.69.0 humanize-4.11.0 importlib_resources-6.5.2 jax-0.4.38 jaxlib-0.4.38 lightning-2.5.0.post0 lightning-utilities-0.11.9 markdown-3.7 ml-collections-1.0.0 ml_dtypes-0.5.1 mpmath-1.3.0 mudata-0.3.1 numpyro-0.16.1 opt_einsum-3.4.0 optax-0.2.4 orbax-checkpoint-0.11.0 protobuf-5.29.3 pyro-api-0.1.2 pyro-ppl-1.9.1 pytorch-lightning-2.5.0.post0 scvi-tools-1.2.2.post2 simplejson-3.19.3 sparse-0.15.4 sympy-1.13.1 tensorboard-2.18.0 tensorboard-data-server-0.7.2 tensorstore-0.1.71 torch-2.5.1 torchmetrics-1.6.1 werkzeug-3.1.3 zipp-3.21.0\n",
      "\n",
      "\u001b[1m[\u001b[0m\u001b[34;49mnotice\u001b[0m\u001b[1;39;49m]\u001b[0m\u001b[39;49m A new release of pip is available: \u001b[0m\u001b[31;49m24.2\u001b[0m\u001b[39;49m -> \u001b[0m\u001b[32;49m24.3.1\u001b[0m\n",
      "\u001b[1m[\u001b[0m\u001b[34;49mnotice\u001b[0m\u001b[1;39;49m]\u001b[0m\u001b[39;49m To update, run: \u001b[0m\u001b[32;49mpip install --upgrade pip\u001b[0m\n"
     ]
    }
   ],
   "source": [
    "!pip install scvi-tools"
   ]
  },
  {
   "cell_type": "code",
   "execution_count": 8,
   "id": "6f23b956",
   "metadata": {},
   "outputs": [
    {
     "name": "stderr",
     "output_type": "stream",
     "text": [
      "/Users/denshi/Code/UGP/.venv/lib/python3.12/site-packages/tqdm/auto.py:21: TqdmWarning: IProgress not found. Please update jupyter and ipywidgets. See https://ipywidgets.readthedocs.io/en/stable/user_install.html\n",
      "  from .autonotebook import tqdm as notebook_tqdm\n"
     ]
    }
   ],
   "source": [
    "import scvi"
   ]
  },
  {
   "cell_type": "code",
   "execution_count": 9,
   "id": "1a161013",
   "metadata": {},
   "outputs": [
    {
     "data": {
      "text/plain": [
       "AnnData object with n_obs × n_vars = 4513 × 34546"
      ]
     },
     "execution_count": 9,
     "metadata": {},
     "output_type": "execute_result"
    }
   ],
   "source": [
    "adata"
   ]
  },
  {
   "cell_type": "code",
   "execution_count": 10,
   "id": "83eba3b9",
   "metadata": {},
   "outputs": [],
   "source": [
    "#only keep genes that are found in at least 10 cells\n",
    "sc.pp.filter_genes(adata, min_cells = 10)"
   ]
  },
  {
   "cell_type": "code",
   "execution_count": 11,
   "id": "d8a19a4b",
   "metadata": {},
   "outputs": [
    {
     "data": {
      "text/plain": [
       "AnnData object with n_obs × n_vars = 4513 × 17939\n",
       "    var: 'n_cells'"
      ]
     },
     "execution_count": 11,
     "metadata": {},
     "output_type": "execute_result"
    }
   ],
   "source": [
    "adata"
   ]
  },
  {
   "cell_type": "code",
   "execution_count": 12,
   "id": "67ac4494",
   "metadata": {},
   "outputs": [],
   "source": [
    "sc.pp.highly_variable_genes(adata, n_top_genes = 2000, subset = True, flavor = 'seurat_v3')"
   ]
  },
  {
   "cell_type": "code",
   "execution_count": 13,
   "id": "7f0b3655",
   "metadata": {},
   "outputs": [
    {
     "data": {
      "text/plain": [
       "AnnData object with n_obs × n_vars = 4513 × 2000\n",
       "    var: 'n_cells', 'highly_variable', 'highly_variable_rank', 'means', 'variances', 'variances_norm'\n",
       "    uns: 'hvg'"
      ]
     },
     "execution_count": 13,
     "metadata": {},
     "output_type": "execute_result"
    }
   ],
   "source": [
    "adata"
   ]
  },
  {
   "cell_type": "code",
   "execution_count": 15,
   "id": "e85be29e",
   "metadata": {},
   "outputs": [
    {
     "name": "stderr",
     "output_type": "stream",
     "text": [
      "/Users/denshi/Code/UGP/.venv/lib/python3.12/site-packages/scvi/train/_trainrunner.py:69: UserWarning: `accelerator` has been set to `mps`. Please note that not all PyTorch/Jax operations are supported with this backend. as a result, some models might be slower and less accurate than usuall. Please verify your analysis!Refer to https://github.com/pytorch/pytorch/issues/77764 for more details.\n",
      "  accelerator, lightning_devices, device = parse_device_args(\n",
      "GPU available: True (mps), used: True\n",
      "TPU available: False, using: 0 TPU cores\n",
      "HPU available: False, using: 0 HPUs\n",
      "/Users/denshi/Code/UGP/.venv/lib/python3.12/site-packages/lightning/pytorch/trainer/connectors/data_connector.py:425: The 'train_dataloader' does not have many workers which may be a bottleneck. Consider increasing the value of the `num_workers` argument` to `num_workers=7` in the `DataLoader` to improve performance.\n"
     ]
    },
    {
     "name": "stdout",
     "output_type": "stream",
     "text": [
      "Epoch 400/400: 100%|██████████| 400/400 [04:11<00:00,  1.62it/s, v_num=1, train_loss_step=387, train_loss_epoch=398]"
     ]
    },
    {
     "name": "stderr",
     "output_type": "stream",
     "text": [
      "`Trainer.fit` stopped: `max_epochs=400` reached.\n"
     ]
    },
    {
     "name": "stdout",
     "output_type": "stream",
     "text": [
      "Epoch 400/400: 100%|██████████| 400/400 [04:11<00:00,  1.59it/s, v_num=1, train_loss_step=387, train_loss_epoch=398]\n"
     ]
    }
   ],
   "source": [
    "scvi.model.SCVI.setup_anndata(adata)\n",
    "vae = scvi.model.SCVI(adata)\n",
    "vae.train(accelerator='gpu')"
   ]
  },
  {
   "cell_type": "code",
   "execution_count": 16,
   "id": "4645b710",
   "metadata": {},
   "outputs": [
    {
     "name": "stdout",
     "output_type": "stream",
     "text": [
      "\u001b[34mINFO    \u001b[0m Creating doublets, preparing SOLO model.                                                                  \n"
     ]
    },
    {
     "name": "stderr",
     "output_type": "stream",
     "text": [
      "/Users/denshi/Code/UGP/.venv/lib/python3.12/site-packages/scvi/train/_trainrunner.py:69: UserWarning: `accelerator` has been set to `mps`. Please note that not all PyTorch/Jax operations are supported with this backend. as a result, some models might be slower and less accurate than usuall. Please verify your analysis!Refer to https://github.com/pytorch/pytorch/issues/77764 for more details.\n",
      "  accelerator, lightning_devices, device = parse_device_args(\n",
      "GPU available: True (mps), used: True\n",
      "TPU available: False, using: 0 TPU cores\n",
      "HPU available: False, using: 0 HPUs\n",
      "/Users/denshi/Code/UGP/.venv/lib/python3.12/site-packages/lightning/pytorch/trainer/connectors/data_connector.py:425: The 'train_dataloader' does not have many workers which may be a bottleneck. Consider increasing the value of the `num_workers` argument` to `num_workers=7` in the `DataLoader` to improve performance.\n",
      "/Users/denshi/Code/UGP/.venv/lib/python3.12/site-packages/lightning/pytorch/trainer/connectors/data_connector.py:425: The 'val_dataloader' does not have many workers which may be a bottleneck. Consider increasing the value of the `num_workers` argument` to `num_workers=7` in the `DataLoader` to improve performance.\n"
     ]
    },
    {
     "name": "stdout",
     "output_type": "stream",
     "text": [
      "Epoch 191/400:  48%|████▊     | 191/400 [01:37<01:46,  1.96it/s, v_num=1, train_loss_step=0.436, train_loss_epoch=0.298] \n",
      "Monitored metric validation_loss did not improve in the last 30 records. Best score: 0.288. Signaling Trainer to stop.\n"
     ]
    }
   ],
   "source": [
    "solo = scvi.external.SOLO.from_scvi_model(vae)\n",
    "solo.train(accelerator='gpu')"
   ]
  },
  {
   "cell_type": "code",
   "execution_count": 17,
   "id": "71229c69",
   "metadata": {},
   "outputs": [
    {
     "name": "stderr",
     "output_type": "stream",
     "text": [
      "/Users/denshi/Code/UGP/.venv/lib/python3.12/site-packages/torch/utils/_contextlib.py:116: UserWarning: Prior to scvi-tools 1.1.3, `SOLO.predict` with `soft=True` (the default option) returned logits instead of probabilities. This behavior has since been corrected to return probabiltiies. The previous behavior can be replicated by passing in `return_logits=True`.\n",
      "  return func(*args, **kwargs)\n",
      "/Users/denshi/Code/UGP/.venv/lib/python3.12/site-packages/torch/utils/_contextlib.py:116: UserWarning: Prior to scvi-tools 1.1.3, `SOLO.predict` with `soft=True` (the default option) returned logits instead of probabilities. This behavior has since been corrected to return probabiltiies. The previous behavior can be replicated by passing in `return_logits=True`.\n",
      "  return func(*args, **kwargs)\n"
     ]
    },
    {
     "data": {
      "text/html": [
       "<div>\n",
       "<style scoped>\n",
       "    .dataframe tbody tr th:only-of-type {\n",
       "        vertical-align: middle;\n",
       "    }\n",
       "\n",
       "    .dataframe tbody tr th {\n",
       "        vertical-align: top;\n",
       "    }\n",
       "\n",
       "    .dataframe thead th {\n",
       "        text-align: right;\n",
       "    }\n",
       "</style>\n",
       "<table border=\"1\" class=\"dataframe\">\n",
       "  <thead>\n",
       "    <tr style=\"text-align: right;\">\n",
       "      <th></th>\n",
       "      <th>doublet</th>\n",
       "      <th>singlet</th>\n",
       "      <th>prediction</th>\n",
       "    </tr>\n",
       "  </thead>\n",
       "  <tbody>\n",
       "    <tr>\n",
       "      <th>CATCGGGCAGCTCATA-1</th>\n",
       "      <td>0.958005</td>\n",
       "      <td>0.041995</td>\n",
       "      <td>doublet</td>\n",
       "    </tr>\n",
       "    <tr>\n",
       "      <th>CACCAAAAGCCACAAG-1</th>\n",
       "      <td>0.986789</td>\n",
       "      <td>0.013211</td>\n",
       "      <td>doublet</td>\n",
       "    </tr>\n",
       "    <tr>\n",
       "      <th>CGAAGGACACTGGCCA-1</th>\n",
       "      <td>0.456019</td>\n",
       "      <td>0.543981</td>\n",
       "      <td>singlet</td>\n",
       "    </tr>\n",
       "    <tr>\n",
       "      <th>GTAGGTTTCAACTGAC-1</th>\n",
       "      <td>0.888894</td>\n",
       "      <td>0.111106</td>\n",
       "      <td>doublet</td>\n",
       "    </tr>\n",
       "    <tr>\n",
       "      <th>CTAACTTGTACACGCC-1</th>\n",
       "      <td>0.683833</td>\n",
       "      <td>0.316168</td>\n",
       "      <td>doublet</td>\n",
       "    </tr>\n",
       "    <tr>\n",
       "      <th>...</th>\n",
       "      <td>...</td>\n",
       "      <td>...</td>\n",
       "      <td>...</td>\n",
       "    </tr>\n",
       "    <tr>\n",
       "      <th>GATGATCTCCGCGGAT-1</th>\n",
       "      <td>0.003749</td>\n",
       "      <td>0.996251</td>\n",
       "      <td>singlet</td>\n",
       "    </tr>\n",
       "    <tr>\n",
       "      <th>TCTCACGAGCTGAAAT-1</th>\n",
       "      <td>0.000067</td>\n",
       "      <td>0.999933</td>\n",
       "      <td>singlet</td>\n",
       "    </tr>\n",
       "    <tr>\n",
       "      <th>ATGAAAGAGAGGCGGA-1</th>\n",
       "      <td>0.000183</td>\n",
       "      <td>0.999817</td>\n",
       "      <td>singlet</td>\n",
       "    </tr>\n",
       "    <tr>\n",
       "      <th>GATCAGTGTTTCGATG-1</th>\n",
       "      <td>0.000336</td>\n",
       "      <td>0.999664</td>\n",
       "      <td>singlet</td>\n",
       "    </tr>\n",
       "    <tr>\n",
       "      <th>CCGTGAGTCCAGCTCT-1</th>\n",
       "      <td>0.000042</td>\n",
       "      <td>0.999958</td>\n",
       "      <td>singlet</td>\n",
       "    </tr>\n",
       "  </tbody>\n",
       "</table>\n",
       "<p>4513 rows × 3 columns</p>\n",
       "</div>"
      ],
      "text/plain": [
       "                     doublet   singlet prediction\n",
       "CATCGGGCAGCTCATA-1  0.958005  0.041995    doublet\n",
       "CACCAAAAGCCACAAG-1  0.986789  0.013211    doublet\n",
       "CGAAGGACACTGGCCA-1  0.456019  0.543981    singlet\n",
       "GTAGGTTTCAACTGAC-1  0.888894  0.111106    doublet\n",
       "CTAACTTGTACACGCC-1  0.683833  0.316168    doublet\n",
       "...                      ...       ...        ...\n",
       "GATGATCTCCGCGGAT-1  0.003749  0.996251    singlet\n",
       "TCTCACGAGCTGAAAT-1  0.000067  0.999933    singlet\n",
       "ATGAAAGAGAGGCGGA-1  0.000183  0.999817    singlet\n",
       "GATCAGTGTTTCGATG-1  0.000336  0.999664    singlet\n",
       "CCGTGAGTCCAGCTCT-1  0.000042  0.999958    singlet\n",
       "\n",
       "[4513 rows x 3 columns]"
      ]
     },
     "execution_count": 17,
     "metadata": {},
     "output_type": "execute_result"
    }
   ],
   "source": [
    "df = solo.predict()\n",
    "df['prediction'] = solo.predict(soft = False)\n",
    "\n",
    "df.index = df.index.map(lambda x: x[:-2])\n",
    "\n",
    "df"
   ]
  },
  {
   "cell_type": "code",
   "execution_count": 18,
   "id": "655855b9",
   "metadata": {},
   "outputs": [
    {
     "data": {
      "text/html": [
       "<div>\n",
       "<style scoped>\n",
       "    .dataframe tbody tr th:only-of-type {\n",
       "        vertical-align: middle;\n",
       "    }\n",
       "\n",
       "    .dataframe tbody tr th {\n",
       "        vertical-align: top;\n",
       "    }\n",
       "\n",
       "    .dataframe thead th {\n",
       "        text-align: right;\n",
       "    }\n",
       "</style>\n",
       "<table border=\"1\" class=\"dataframe\">\n",
       "  <thead>\n",
       "    <tr style=\"text-align: right;\">\n",
       "      <th></th>\n",
       "      <th>doublet</th>\n",
       "      <th>singlet</th>\n",
       "    </tr>\n",
       "    <tr>\n",
       "      <th>prediction</th>\n",
       "      <th></th>\n",
       "      <th></th>\n",
       "    </tr>\n",
       "  </thead>\n",
       "  <tbody>\n",
       "    <tr>\n",
       "      <th>doublet</th>\n",
       "      <td>985</td>\n",
       "      <td>985</td>\n",
       "    </tr>\n",
       "    <tr>\n",
       "      <th>singlet</th>\n",
       "      <td>3528</td>\n",
       "      <td>3528</td>\n",
       "    </tr>\n",
       "  </tbody>\n",
       "</table>\n",
       "</div>"
      ],
      "text/plain": [
       "            doublet  singlet\n",
       "prediction                  \n",
       "doublet         985      985\n",
       "singlet        3528     3528"
      ]
     },
     "execution_count": 18,
     "metadata": {},
     "output_type": "execute_result"
    }
   ],
   "source": [
    "df.groupby('prediction').count()"
   ]
  },
  {
   "cell_type": "code",
   "execution_count": 19,
   "id": "f003dbde",
   "metadata": {},
   "outputs": [
    {
     "data": {
      "text/html": [
       "<div>\n",
       "<style scoped>\n",
       "    .dataframe tbody tr th:only-of-type {\n",
       "        vertical-align: middle;\n",
       "    }\n",
       "\n",
       "    .dataframe tbody tr th {\n",
       "        vertical-align: top;\n",
       "    }\n",
       "\n",
       "    .dataframe thead th {\n",
       "        text-align: right;\n",
       "    }\n",
       "</style>\n",
       "<table border=\"1\" class=\"dataframe\">\n",
       "  <thead>\n",
       "    <tr style=\"text-align: right;\">\n",
       "      <th></th>\n",
       "      <th>doublet</th>\n",
       "      <th>singlet</th>\n",
       "      <th>prediction</th>\n",
       "      <th>dif</th>\n",
       "    </tr>\n",
       "  </thead>\n",
       "  <tbody>\n",
       "    <tr>\n",
       "      <th>CATCGGGCAGCTCATA-1</th>\n",
       "      <td>0.958005</td>\n",
       "      <td>0.041995</td>\n",
       "      <td>doublet</td>\n",
       "      <td>0.916010</td>\n",
       "    </tr>\n",
       "    <tr>\n",
       "      <th>CACCAAAAGCCACAAG-1</th>\n",
       "      <td>0.986789</td>\n",
       "      <td>0.013211</td>\n",
       "      <td>doublet</td>\n",
       "      <td>0.973579</td>\n",
       "    </tr>\n",
       "    <tr>\n",
       "      <th>CGAAGGACACTGGCCA-1</th>\n",
       "      <td>0.456019</td>\n",
       "      <td>0.543981</td>\n",
       "      <td>singlet</td>\n",
       "      <td>-0.087962</td>\n",
       "    </tr>\n",
       "    <tr>\n",
       "      <th>GTAGGTTTCAACTGAC-1</th>\n",
       "      <td>0.888894</td>\n",
       "      <td>0.111106</td>\n",
       "      <td>doublet</td>\n",
       "      <td>0.777788</td>\n",
       "    </tr>\n",
       "    <tr>\n",
       "      <th>CTAACTTGTACACGCC-1</th>\n",
       "      <td>0.683833</td>\n",
       "      <td>0.316168</td>\n",
       "      <td>doublet</td>\n",
       "      <td>0.367665</td>\n",
       "    </tr>\n",
       "    <tr>\n",
       "      <th>...</th>\n",
       "      <td>...</td>\n",
       "      <td>...</td>\n",
       "      <td>...</td>\n",
       "      <td>...</td>\n",
       "    </tr>\n",
       "    <tr>\n",
       "      <th>GATGATCTCCGCGGAT-1</th>\n",
       "      <td>0.003749</td>\n",
       "      <td>0.996251</td>\n",
       "      <td>singlet</td>\n",
       "      <td>-0.992503</td>\n",
       "    </tr>\n",
       "    <tr>\n",
       "      <th>TCTCACGAGCTGAAAT-1</th>\n",
       "      <td>0.000067</td>\n",
       "      <td>0.999933</td>\n",
       "      <td>singlet</td>\n",
       "      <td>-0.999867</td>\n",
       "    </tr>\n",
       "    <tr>\n",
       "      <th>ATGAAAGAGAGGCGGA-1</th>\n",
       "      <td>0.000183</td>\n",
       "      <td>0.999817</td>\n",
       "      <td>singlet</td>\n",
       "      <td>-0.999635</td>\n",
       "    </tr>\n",
       "    <tr>\n",
       "      <th>GATCAGTGTTTCGATG-1</th>\n",
       "      <td>0.000336</td>\n",
       "      <td>0.999664</td>\n",
       "      <td>singlet</td>\n",
       "      <td>-0.999327</td>\n",
       "    </tr>\n",
       "    <tr>\n",
       "      <th>CCGTGAGTCCAGCTCT-1</th>\n",
       "      <td>0.000042</td>\n",
       "      <td>0.999958</td>\n",
       "      <td>singlet</td>\n",
       "      <td>-0.999917</td>\n",
       "    </tr>\n",
       "  </tbody>\n",
       "</table>\n",
       "<p>4513 rows × 4 columns</p>\n",
       "</div>"
      ],
      "text/plain": [
       "                     doublet   singlet prediction       dif\n",
       "CATCGGGCAGCTCATA-1  0.958005  0.041995    doublet  0.916010\n",
       "CACCAAAAGCCACAAG-1  0.986789  0.013211    doublet  0.973579\n",
       "CGAAGGACACTGGCCA-1  0.456019  0.543981    singlet -0.087962\n",
       "GTAGGTTTCAACTGAC-1  0.888894  0.111106    doublet  0.777788\n",
       "CTAACTTGTACACGCC-1  0.683833  0.316168    doublet  0.367665\n",
       "...                      ...       ...        ...       ...\n",
       "GATGATCTCCGCGGAT-1  0.003749  0.996251    singlet -0.992503\n",
       "TCTCACGAGCTGAAAT-1  0.000067  0.999933    singlet -0.999867\n",
       "ATGAAAGAGAGGCGGA-1  0.000183  0.999817    singlet -0.999635\n",
       "GATCAGTGTTTCGATG-1  0.000336  0.999664    singlet -0.999327\n",
       "CCGTGAGTCCAGCTCT-1  0.000042  0.999958    singlet -0.999917\n",
       "\n",
       "[4513 rows x 4 columns]"
      ]
     },
     "execution_count": 19,
     "metadata": {},
     "output_type": "execute_result"
    }
   ],
   "source": [
    "df['dif'] = df.doublet - df.singlet\n",
    "df"
   ]
  },
  {
   "cell_type": "code",
   "execution_count": 20,
   "id": "4d1ef4f0",
   "metadata": {},
   "outputs": [],
   "source": [
    "import seaborn as sns"
   ]
  },
  {
   "cell_type": "code",
   "execution_count": 21,
   "id": "323146ac",
   "metadata": {},
   "outputs": [
    {
     "data": {
      "text/plain": [
       "<seaborn.axisgrid.FacetGrid at 0x361c0e420>"
      ]
     },
     "execution_count": 21,
     "metadata": {},
     "output_type": "execute_result"
    },
    {
     "data": {
      "image/png": "[encoded data removed]",
      "text/plain": [
       "<Figure size 500x500 with 1 Axes>"
      ]
     },
     "metadata": {},
     "output_type": "display_data"
    }
   ],
   "source": [
    "sns.displot(df[df.prediction == 'doublet'], x = 'dif')"
   ]
  },
  {
   "cell_type": "code",
   "execution_count": 22,
   "id": "df429bbb",
   "metadata": {},
   "outputs": [
    {
     "data": {
      "text/html": [
       "<div>\n",
       "<style scoped>\n",
       "    .dataframe tbody tr th:only-of-type {\n",
       "        vertical-align: middle;\n",
       "    }\n",
       "\n",
       "    .dataframe tbody tr th {\n",
       "        vertical-align: top;\n",
       "    }\n",
       "\n",
       "    .dataframe thead th {\n",
       "        text-align: right;\n",
       "    }\n",
       "</style>\n",
       "<table border=\"1\" class=\"dataframe\">\n",
       "  <thead>\n",
       "    <tr style=\"text-align: right;\">\n",
       "      <th></th>\n",
       "      <th>doublet</th>\n",
       "      <th>singlet</th>\n",
       "      <th>prediction</th>\n",
       "      <th>dif</th>\n",
       "    </tr>\n",
       "  </thead>\n",
       "  <tbody>\n",
       "    <tr>\n",
       "      <th>CATCGGGCAGCTCATA-1</th>\n",
       "      <td>0.958005</td>\n",
       "      <td>0.041995</td>\n",
       "      <td>doublet</td>\n",
       "      <td>0.916010</td>\n",
       "    </tr>\n",
       "    <tr>\n",
       "      <th>CACCAAAAGCCACAAG-1</th>\n",
       "      <td>0.986789</td>\n",
       "      <td>0.013211</td>\n",
       "      <td>doublet</td>\n",
       "      <td>0.973579</td>\n",
       "    </tr>\n",
       "    <tr>\n",
       "      <th>GTAGGTTTCAACTGAC-1</th>\n",
       "      <td>0.888894</td>\n",
       "      <td>0.111106</td>\n",
       "      <td>doublet</td>\n",
       "      <td>0.777788</td>\n",
       "    </tr>\n",
       "    <tr>\n",
       "      <th>GCCCGAACAGACGGAT-1</th>\n",
       "      <td>0.718411</td>\n",
       "      <td>0.281589</td>\n",
       "      <td>doublet</td>\n",
       "      <td>0.436822</td>\n",
       "    </tr>\n",
       "    <tr>\n",
       "      <th>TCATTCATCCAGCACG-1</th>\n",
       "      <td>0.773745</td>\n",
       "      <td>0.226255</td>\n",
       "      <td>doublet</td>\n",
       "      <td>0.547489</td>\n",
       "    </tr>\n",
       "    <tr>\n",
       "      <th>...</th>\n",
       "      <td>...</td>\n",
       "      <td>...</td>\n",
       "      <td>...</td>\n",
       "      <td>...</td>\n",
       "    </tr>\n",
       "    <tr>\n",
       "      <th>CCTGCATAGTTCATGC-1</th>\n",
       "      <td>0.759275</td>\n",
       "      <td>0.240725</td>\n",
       "      <td>doublet</td>\n",
       "      <td>0.518551</td>\n",
       "    </tr>\n",
       "    <tr>\n",
       "      <th>AACAGGGTCCGCAACG-1</th>\n",
       "      <td>0.753928</td>\n",
       "      <td>0.246072</td>\n",
       "      <td>doublet</td>\n",
       "      <td>0.507856</td>\n",
       "    </tr>\n",
       "    <tr>\n",
       "      <th>TGGCGTGCATCCGAAT-1</th>\n",
       "      <td>0.789639</td>\n",
       "      <td>0.210361</td>\n",
       "      <td>doublet</td>\n",
       "      <td>0.579278</td>\n",
       "    </tr>\n",
       "    <tr>\n",
       "      <th>GAGCTGCCACTCTGCT-1</th>\n",
       "      <td>0.816337</td>\n",
       "      <td>0.183663</td>\n",
       "      <td>doublet</td>\n",
       "      <td>0.632675</td>\n",
       "    </tr>\n",
       "    <tr>\n",
       "      <th>GTTGCTCCAAGGCAAC-1</th>\n",
       "      <td>0.786580</td>\n",
       "      <td>0.213420</td>\n",
       "      <td>doublet</td>\n",
       "      <td>0.573161</td>\n",
       "    </tr>\n",
       "  </tbody>\n",
       "</table>\n",
       "<p>511 rows × 4 columns</p>\n",
       "</div>"
      ],
      "text/plain": [
       "                     doublet   singlet prediction       dif\n",
       "CATCGGGCAGCTCATA-1  0.958005  0.041995    doublet  0.916010\n",
       "CACCAAAAGCCACAAG-1  0.986789  0.013211    doublet  0.973579\n",
       "GTAGGTTTCAACTGAC-1  0.888894  0.111106    doublet  0.777788\n",
       "GCCCGAACAGACGGAT-1  0.718411  0.281589    doublet  0.436822\n",
       "TCATTCATCCAGCACG-1  0.773745  0.226255    doublet  0.547489\n",
       "...                      ...       ...        ...       ...\n",
       "CCTGCATAGTTCATGC-1  0.759275  0.240725    doublet  0.518551\n",
       "AACAGGGTCCGCAACG-1  0.753928  0.246072    doublet  0.507856\n",
       "TGGCGTGCATCCGAAT-1  0.789639  0.210361    doublet  0.579278\n",
       "GAGCTGCCACTCTGCT-1  0.816337  0.183663    doublet  0.632675\n",
       "GTTGCTCCAAGGCAAC-1  0.786580  0.213420    doublet  0.573161\n",
       "\n",
       "[511 rows x 4 columns]"
      ]
     },
     "execution_count": 22,
     "metadata": {},
     "output_type": "execute_result"
    }
   ],
   "source": [
    "doublets = df[(df.prediction == 'doublet') & (df.dif > 0.4)]\n",
    "doublets"
   ]
  },
  {
   "cell_type": "code",
   "execution_count": 23,
   "id": "8c672732",
   "metadata": {},
   "outputs": [],
   "source": [
    "# adata = sc.read_csv('raw_counts/GSM5226574_C51ctr_raw_counts.csv').T\n",
    "adata = sc.read_csv('raw_counts/GSM5226575_C52ctr_raw_counts.csv').T"
   ]
  },
  {
   "cell_type": "code",
   "execution_count": 24,
   "id": "a71c1b6a",
   "metadata": {},
   "outputs": [],
   "source": [
    "adata.obs['doublet'] = adata.obs.index.isin(doublets.index)"
   ]
  },
  {
   "cell_type": "code",
   "execution_count": 25,
   "id": "de33eaea",
   "metadata": {},
   "outputs": [
    {
     "data": {
      "text/html": [
       "<div>\n",
       "<style scoped>\n",
       "    .dataframe tbody tr th:only-of-type {\n",
       "        vertical-align: middle;\n",
       "    }\n",
       "\n",
       "    .dataframe tbody tr th {\n",
       "        vertical-align: top;\n",
       "    }\n",
       "\n",
       "    .dataframe thead th {\n",
       "        text-align: right;\n",
       "    }\n",
       "</style>\n",
       "<table border=\"1\" class=\"dataframe\">\n",
       "  <thead>\n",
       "    <tr style=\"text-align: right;\">\n",
       "      <th></th>\n",
       "      <th>doublet</th>\n",
       "    </tr>\n",
       "  </thead>\n",
       "  <tbody>\n",
       "    <tr>\n",
       "      <th>CATCGGGCAGCTCATA-1_2</th>\n",
       "      <td>False</td>\n",
       "    </tr>\n",
       "    <tr>\n",
       "      <th>CACCAAAAGCCACAAG-1_2</th>\n",
       "      <td>False</td>\n",
       "    </tr>\n",
       "    <tr>\n",
       "      <th>CGAAGGACACTGGCCA-1_2</th>\n",
       "      <td>False</td>\n",
       "    </tr>\n",
       "    <tr>\n",
       "      <th>GTAGGTTTCAACTGAC-1_2</th>\n",
       "      <td>False</td>\n",
       "    </tr>\n",
       "    <tr>\n",
       "      <th>CTAACTTGTACACGCC-1_2</th>\n",
       "      <td>False</td>\n",
       "    </tr>\n",
       "    <tr>\n",
       "      <th>...</th>\n",
       "      <td>...</td>\n",
       "    </tr>\n",
       "    <tr>\n",
       "      <th>GATGATCTCCGCGGAT-1_2</th>\n",
       "      <td>False</td>\n",
       "    </tr>\n",
       "    <tr>\n",
       "      <th>TCTCACGAGCTGAAAT-1_2</th>\n",
       "      <td>False</td>\n",
       "    </tr>\n",
       "    <tr>\n",
       "      <th>ATGAAAGAGAGGCGGA-1_2</th>\n",
       "      <td>False</td>\n",
       "    </tr>\n",
       "    <tr>\n",
       "      <th>GATCAGTGTTTCGATG-1_2</th>\n",
       "      <td>False</td>\n",
       "    </tr>\n",
       "    <tr>\n",
       "      <th>CCGTGAGTCCAGCTCT-1_2</th>\n",
       "      <td>False</td>\n",
       "    </tr>\n",
       "  </tbody>\n",
       "</table>\n",
       "<p>4513 rows × 1 columns</p>\n",
       "</div>"
      ],
      "text/plain": [
       "                      doublet\n",
       "CATCGGGCAGCTCATA-1_2    False\n",
       "CACCAAAAGCCACAAG-1_2    False\n",
       "CGAAGGACACTGGCCA-1_2    False\n",
       "GTAGGTTTCAACTGAC-1_2    False\n",
       "CTAACTTGTACACGCC-1_2    False\n",
       "...                       ...\n",
       "GATGATCTCCGCGGAT-1_2    False\n",
       "TCTCACGAGCTGAAAT-1_2    False\n",
       "ATGAAAGAGAGGCGGA-1_2    False\n",
       "GATCAGTGTTTCGATG-1_2    False\n",
       "CCGTGAGTCCAGCTCT-1_2    False\n",
       "\n",
       "[4513 rows x 1 columns]"
      ]
     },
     "execution_count": 25,
     "metadata": {},
     "output_type": "execute_result"
    }
   ],
   "source": [
    "adata.obs"
   ]
  },
  {
   "cell_type": "code",
   "execution_count": 26,
   "id": "b7cead34",
   "metadata": {},
   "outputs": [],
   "source": [
    "adata = adata[~adata.obs.doublet]"
   ]
  },
  {
   "cell_type": "code",
   "execution_count": 27,
   "id": "685241ef",
   "metadata": {},
   "outputs": [
    {
     "data": {
      "text/plain": [
       "View of AnnData object with n_obs × n_vars = 4513 × 34546\n",
       "    obs: 'doublet'"
      ]
     },
     "execution_count": 27,
     "metadata": {},
     "output_type": "execute_result"
    }
   ],
   "source": [
    "adata"
   ]
  },
  {
   "cell_type": "markdown",
   "id": "d3276937",
   "metadata": {},
   "source": [
    "# Preprocessing"
   ]
  },
  {
   "cell_type": "code",
   "execution_count": 29,
   "id": "49c566d6",
   "metadata": {},
   "outputs": [
    {
     "name": "stderr",
     "output_type": "stream",
     "text": [
      "/var/folders/rm/psh86dn96ss_b4khvkydrgq80000gn/T/ipykernel_9120/310233584.py:1: ImplicitModificationWarning: Trying to modify attribute `.var` of view, initializing view as actual.\n",
      "  adata.var['mt'] = adata.var.index.str.startswith('MT-')\n"
     ]
    }
   ],
   "source": [
    "adata.var['mt'] = adata.var.index.str.startswith('MT-')"
   ]
  },
  {
   "cell_type": "code",
   "execution_count": 30,
   "id": "124021d9",
   "metadata": {},
   "outputs": [
    {
     "data": {
      "text/html": [
       "<div>\n",
       "<style scoped>\n",
       "    .dataframe tbody tr th:only-of-type {\n",
       "        vertical-align: middle;\n",
       "    }\n",
       "\n",
       "    .dataframe tbody tr th {\n",
       "        vertical-align: top;\n",
       "    }\n",
       "\n",
       "    .dataframe thead th {\n",
       "        text-align: right;\n",
       "    }\n",
       "</style>\n",
       "<table border=\"1\" class=\"dataframe\">\n",
       "  <thead>\n",
       "    <tr style=\"text-align: right;\">\n",
       "      <th></th>\n",
       "      <th>mt</th>\n",
       "    </tr>\n",
       "  </thead>\n",
       "  <tbody>\n",
       "    <tr>\n",
       "      <th>AL627309.1</th>\n",
       "      <td>False</td>\n",
       "    </tr>\n",
       "    <tr>\n",
       "      <th>AL627309.5</th>\n",
       "      <td>False</td>\n",
       "    </tr>\n",
       "    <tr>\n",
       "      <th>AL627309.4</th>\n",
       "      <td>False</td>\n",
       "    </tr>\n",
       "    <tr>\n",
       "      <th>AL669831.2</th>\n",
       "      <td>False</td>\n",
       "    </tr>\n",
       "    <tr>\n",
       "      <th>LINC01409</th>\n",
       "      <td>False</td>\n",
       "    </tr>\n",
       "    <tr>\n",
       "      <th>...</th>\n",
       "      <td>...</td>\n",
       "    </tr>\n",
       "    <tr>\n",
       "      <th>VN1R2</th>\n",
       "      <td>False</td>\n",
       "    </tr>\n",
       "    <tr>\n",
       "      <th>AL031676.1</th>\n",
       "      <td>False</td>\n",
       "    </tr>\n",
       "    <tr>\n",
       "      <th>SMIM34A</th>\n",
       "      <td>False</td>\n",
       "    </tr>\n",
       "    <tr>\n",
       "      <th>AL050402.1</th>\n",
       "      <td>False</td>\n",
       "    </tr>\n",
       "    <tr>\n",
       "      <th>AL445072.1</th>\n",
       "      <td>False</td>\n",
       "    </tr>\n",
       "  </tbody>\n",
       "</table>\n",
       "<p>34546 rows × 1 columns</p>\n",
       "</div>"
      ],
      "text/plain": [
       "               mt\n",
       "AL627309.1  False\n",
       "AL627309.5  False\n",
       "AL627309.4  False\n",
       "AL669831.2  False\n",
       "LINC01409   False\n",
       "...           ...\n",
       "VN1R2       False\n",
       "AL031676.1  False\n",
       "SMIM34A     False\n",
       "AL050402.1  False\n",
       "AL445072.1  False\n",
       "\n",
       "[34546 rows x 1 columns]"
      ]
     },
     "execution_count": 30,
     "metadata": {},
     "output_type": "execute_result"
    }
   ],
   "source": [
    "adata.var"
   ]
  },
  {
   "cell_type": "code",
   "execution_count": 31,
   "id": "a408f7fa",
   "metadata": {},
   "outputs": [],
   "source": [
    "import pandas as pd"
   ]
  },
  {
   "cell_type": "code",
   "execution_count": 32,
   "id": "da7ecb74",
   "metadata": {},
   "outputs": [],
   "source": [
    "ribo_url = \"http://software.broadinstitute.org/gsea/msigdb/download_geneset.jsp?geneSetName=KEGG_RIBOSOME&fileType=txt\""
   ]
  },
  {
   "cell_type": "code",
   "execution_count": 33,
   "id": "47705ce8",
   "metadata": {},
   "outputs": [
    {
     "data": {
      "text/html": [
       "<div>\n",
       "<style scoped>\n",
       "    .dataframe tbody tr th:only-of-type {\n",
       "        vertical-align: middle;\n",
       "    }\n",
       "\n",
       "    .dataframe tbody tr th {\n",
       "        vertical-align: top;\n",
       "    }\n",
       "\n",
       "    .dataframe thead th {\n",
       "        text-align: right;\n",
       "    }\n",
       "</style>\n",
       "<table border=\"1\" class=\"dataframe\">\n",
       "  <thead>\n",
       "    <tr style=\"text-align: right;\">\n",
       "      <th></th>\n",
       "      <th>0</th>\n",
       "    </tr>\n",
       "  </thead>\n",
       "  <tbody>\n",
       "    <tr>\n",
       "      <th>0</th>\n",
       "      <td>FAU</td>\n",
       "    </tr>\n",
       "    <tr>\n",
       "      <th>1</th>\n",
       "      <td>MRPL13</td>\n",
       "    </tr>\n",
       "    <tr>\n",
       "      <th>2</th>\n",
       "      <td>RPL10</td>\n",
       "    </tr>\n",
       "    <tr>\n",
       "      <th>3</th>\n",
       "      <td>RPL10A</td>\n",
       "    </tr>\n",
       "    <tr>\n",
       "      <th>4</th>\n",
       "      <td>RPL10L</td>\n",
       "    </tr>\n",
       "    <tr>\n",
       "      <th>...</th>\n",
       "      <td>...</td>\n",
       "    </tr>\n",
       "    <tr>\n",
       "      <th>83</th>\n",
       "      <td>RPS9</td>\n",
       "    </tr>\n",
       "    <tr>\n",
       "      <th>84</th>\n",
       "      <td>RPSA</td>\n",
       "    </tr>\n",
       "    <tr>\n",
       "      <th>85</th>\n",
       "      <td>RSL24D1</td>\n",
       "    </tr>\n",
       "    <tr>\n",
       "      <th>86</th>\n",
       "      <td>RSL24D1P11</td>\n",
       "    </tr>\n",
       "    <tr>\n",
       "      <th>87</th>\n",
       "      <td>UBA52</td>\n",
       "    </tr>\n",
       "  </tbody>\n",
       "</table>\n",
       "<p>88 rows × 1 columns</p>\n",
       "</div>"
      ],
      "text/plain": [
       "             0\n",
       "0          FAU\n",
       "1       MRPL13\n",
       "2        RPL10\n",
       "3       RPL10A\n",
       "4       RPL10L\n",
       "..         ...\n",
       "83        RPS9\n",
       "84        RPSA\n",
       "85     RSL24D1\n",
       "86  RSL24D1P11\n",
       "87       UBA52\n",
       "\n",
       "[88 rows x 1 columns]"
      ]
     },
     "execution_count": 33,
     "metadata": {},
     "output_type": "execute_result"
    }
   ],
   "source": [
    "ribo_genes = pd.read_table(ribo_url, skiprows=2, header = None)\n",
    "ribo_genes"
   ]
  },
  {
   "cell_type": "code",
   "execution_count": 34,
   "id": "a007ec3d",
   "metadata": {},
   "outputs": [],
   "source": [
    "adata.var['ribo'] = adata.var_names.isin(ribo_genes[0].values)"
   ]
  },
  {
   "cell_type": "code",
   "execution_count": 35,
   "id": "9c524b89",
   "metadata": {},
   "outputs": [
    {
     "data": {
      "text/html": [
       "<div>\n",
       "<style scoped>\n",
       "    .dataframe tbody tr th:only-of-type {\n",
       "        vertical-align: middle;\n",
       "    }\n",
       "\n",
       "    .dataframe tbody tr th {\n",
       "        vertical-align: top;\n",
       "    }\n",
       "\n",
       "    .dataframe thead th {\n",
       "        text-align: right;\n",
       "    }\n",
       "</style>\n",
       "<table border=\"1\" class=\"dataframe\">\n",
       "  <thead>\n",
       "    <tr style=\"text-align: right;\">\n",
       "      <th></th>\n",
       "      <th>doublet</th>\n",
       "    </tr>\n",
       "  </thead>\n",
       "  <tbody>\n",
       "    <tr>\n",
       "      <th>CATCGGGCAGCTCATA-1_2</th>\n",
       "      <td>False</td>\n",
       "    </tr>\n",
       "    <tr>\n",
       "      <th>CACCAAAAGCCACAAG-1_2</th>\n",
       "      <td>False</td>\n",
       "    </tr>\n",
       "    <tr>\n",
       "      <th>CGAAGGACACTGGCCA-1_2</th>\n",
       "      <td>False</td>\n",
       "    </tr>\n",
       "    <tr>\n",
       "      <th>GTAGGTTTCAACTGAC-1_2</th>\n",
       "      <td>False</td>\n",
       "    </tr>\n",
       "    <tr>\n",
       "      <th>CTAACTTGTACACGCC-1_2</th>\n",
       "      <td>False</td>\n",
       "    </tr>\n",
       "    <tr>\n",
       "      <th>...</th>\n",
       "      <td>...</td>\n",
       "    </tr>\n",
       "    <tr>\n",
       "      <th>GATGATCTCCGCGGAT-1_2</th>\n",
       "      <td>False</td>\n",
       "    </tr>\n",
       "    <tr>\n",
       "      <th>TCTCACGAGCTGAAAT-1_2</th>\n",
       "      <td>False</td>\n",
       "    </tr>\n",
       "    <tr>\n",
       "      <th>ATGAAAGAGAGGCGGA-1_2</th>\n",
       "      <td>False</td>\n",
       "    </tr>\n",
       "    <tr>\n",
       "      <th>GATCAGTGTTTCGATG-1_2</th>\n",
       "      <td>False</td>\n",
       "    </tr>\n",
       "    <tr>\n",
       "      <th>CCGTGAGTCCAGCTCT-1_2</th>\n",
       "      <td>False</td>\n",
       "    </tr>\n",
       "  </tbody>\n",
       "</table>\n",
       "<p>4513 rows × 1 columns</p>\n",
       "</div>"
      ],
      "text/plain": [
       "                      doublet\n",
       "CATCGGGCAGCTCATA-1_2    False\n",
       "CACCAAAAGCCACAAG-1_2    False\n",
       "CGAAGGACACTGGCCA-1_2    False\n",
       "GTAGGTTTCAACTGAC-1_2    False\n",
       "CTAACTTGTACACGCC-1_2    False\n",
       "...                       ...\n",
       "GATGATCTCCGCGGAT-1_2    False\n",
       "TCTCACGAGCTGAAAT-1_2    False\n",
       "ATGAAAGAGAGGCGGA-1_2    False\n",
       "GATCAGTGTTTCGATG-1_2    False\n",
       "CCGTGAGTCCAGCTCT-1_2    False\n",
       "\n",
       "[4513 rows x 1 columns]"
      ]
     },
     "execution_count": 35,
     "metadata": {},
     "output_type": "execute_result"
    }
   ],
   "source": [
    "adata.obs"
   ]
  },
  {
   "cell_type": "code",
   "execution_count": 36,
   "id": "c644d660",
   "metadata": {},
   "outputs": [],
   "source": [
    "sc.pp.calculate_qc_metrics(adata, qc_vars=['mt', 'ribo'], percent_top=None, log1p=False, inplace=True)"
   ]
  },
  {
   "cell_type": "code",
   "execution_count": 37,
   "id": "222bb5ff",
   "metadata": {},
   "outputs": [
    {
     "data": {
      "text/html": [
       "<div>\n",
       "<style scoped>\n",
       "    .dataframe tbody tr th:only-of-type {\n",
       "        vertical-align: middle;\n",
       "    }\n",
       "\n",
       "    .dataframe tbody tr th {\n",
       "        vertical-align: top;\n",
       "    }\n",
       "\n",
       "    .dataframe thead th {\n",
       "        text-align: right;\n",
       "    }\n",
       "</style>\n",
       "<table border=\"1\" class=\"dataframe\">\n",
       "  <thead>\n",
       "    <tr style=\"text-align: right;\">\n",
       "      <th></th>\n",
       "      <th>mt</th>\n",
       "      <th>ribo</th>\n",
       "      <th>n_cells_by_counts</th>\n",
       "      <th>mean_counts</th>\n",
       "      <th>pct_dropout_by_counts</th>\n",
       "      <th>total_counts</th>\n",
       "    </tr>\n",
       "  </thead>\n",
       "  <tbody>\n",
       "    <tr>\n",
       "      <th>AL445072.1</th>\n",
       "      <td>False</td>\n",
       "      <td>False</td>\n",
       "      <td>0</td>\n",
       "      <td>0.000000</td>\n",
       "      <td>100.000000</td>\n",
       "      <td>0.0</td>\n",
       "    </tr>\n",
       "    <tr>\n",
       "      <th>HEPN1</th>\n",
       "      <td>False</td>\n",
       "      <td>False</td>\n",
       "      <td>0</td>\n",
       "      <td>0.000000</td>\n",
       "      <td>100.000000</td>\n",
       "      <td>0.0</td>\n",
       "    </tr>\n",
       "    <tr>\n",
       "      <th>PATE3</th>\n",
       "      <td>False</td>\n",
       "      <td>False</td>\n",
       "      <td>0</td>\n",
       "      <td>0.000000</td>\n",
       "      <td>100.000000</td>\n",
       "      <td>0.0</td>\n",
       "    </tr>\n",
       "    <tr>\n",
       "      <th>AP002856.3</th>\n",
       "      <td>False</td>\n",
       "      <td>False</td>\n",
       "      <td>0</td>\n",
       "      <td>0.000000</td>\n",
       "      <td>100.000000</td>\n",
       "      <td>0.0</td>\n",
       "    </tr>\n",
       "    <tr>\n",
       "      <th>SPATA19</th>\n",
       "      <td>False</td>\n",
       "      <td>False</td>\n",
       "      <td>0</td>\n",
       "      <td>0.000000</td>\n",
       "      <td>100.000000</td>\n",
       "      <td>0.0</td>\n",
       "    </tr>\n",
       "    <tr>\n",
       "      <th>...</th>\n",
       "      <td>...</td>\n",
       "      <td>...</td>\n",
       "      <td>...</td>\n",
       "      <td>...</td>\n",
       "      <td>...</td>\n",
       "      <td>...</td>\n",
       "    </tr>\n",
       "    <tr>\n",
       "      <th>ZBTB20</th>\n",
       "      <td>False</td>\n",
       "      <td>False</td>\n",
       "      <td>3557</td>\n",
       "      <td>2.747396</td>\n",
       "      <td>21.183248</td>\n",
       "      <td>12399.0</td>\n",
       "    </tr>\n",
       "    <tr>\n",
       "      <th>MBNL1</th>\n",
       "      <td>False</td>\n",
       "      <td>False</td>\n",
       "      <td>3565</td>\n",
       "      <td>4.457788</td>\n",
       "      <td>21.005983</td>\n",
       "      <td>20118.0</td>\n",
       "    </tr>\n",
       "    <tr>\n",
       "      <th>AKAP13</th>\n",
       "      <td>False</td>\n",
       "      <td>False</td>\n",
       "      <td>3835</td>\n",
       "      <td>4.516729</td>\n",
       "      <td>15.023266</td>\n",
       "      <td>20384.0</td>\n",
       "    </tr>\n",
       "    <tr>\n",
       "      <th>NEAT1</th>\n",
       "      <td>False</td>\n",
       "      <td>False</td>\n",
       "      <td>3928</td>\n",
       "      <td>10.256814</td>\n",
       "      <td>12.962553</td>\n",
       "      <td>46289.0</td>\n",
       "    </tr>\n",
       "    <tr>\n",
       "      <th>MALAT1</th>\n",
       "      <td>False</td>\n",
       "      <td>False</td>\n",
       "      <td>4510</td>\n",
       "      <td>106.989807</td>\n",
       "      <td>0.066475</td>\n",
       "      <td>482845.0</td>\n",
       "    </tr>\n",
       "  </tbody>\n",
       "</table>\n",
       "<p>34546 rows × 6 columns</p>\n",
       "</div>"
      ],
      "text/plain": [
       "               mt   ribo  n_cells_by_counts  mean_counts  \\\n",
       "AL445072.1  False  False                  0     0.000000   \n",
       "HEPN1       False  False                  0     0.000000   \n",
       "PATE3       False  False                  0     0.000000   \n",
       "AP002856.3  False  False                  0     0.000000   \n",
       "SPATA19     False  False                  0     0.000000   \n",
       "...           ...    ...                ...          ...   \n",
       "ZBTB20      False  False               3557     2.747396   \n",
       "MBNL1       False  False               3565     4.457788   \n",
       "AKAP13      False  False               3835     4.516729   \n",
       "NEAT1       False  False               3928    10.256814   \n",
       "MALAT1      False  False               4510   106.989807   \n",
       "\n",
       "            pct_dropout_by_counts  total_counts  \n",
       "AL445072.1             100.000000           0.0  \n",
       "HEPN1                  100.000000           0.0  \n",
       "PATE3                  100.000000           0.0  \n",
       "AP002856.3             100.000000           0.0  \n",
       "SPATA19                100.000000           0.0  \n",
       "...                           ...           ...  \n",
       "ZBTB20                  21.183248       12399.0  \n",
       "MBNL1                   21.005983       20118.0  \n",
       "AKAP13                  15.023266       20384.0  \n",
       "NEAT1                   12.962553       46289.0  \n",
       "MALAT1                   0.066475      482845.0  \n",
       "\n",
       "[34546 rows x 6 columns]"
      ]
     },
     "execution_count": 37,
     "metadata": {},
     "output_type": "execute_result"
    }
   ],
   "source": [
    "adata.var.sort_values('n_cells_by_counts')"
   ]
  },
  {
   "cell_type": "code",
   "execution_count": 38,
   "id": "a41753da",
   "metadata": {},
   "outputs": [],
   "source": [
    "sc.pp.filter_genes(adata, min_cells=3)"
   ]
  },
  {
   "cell_type": "code",
   "execution_count": 39,
   "id": "18092ebb",
   "metadata": {},
   "outputs": [
    {
     "data": {
      "text/html": [
       "<div>\n",
       "<style scoped>\n",
       "    .dataframe tbody tr th:only-of-type {\n",
       "        vertical-align: middle;\n",
       "    }\n",
       "\n",
       "    .dataframe tbody tr th {\n",
       "        vertical-align: top;\n",
       "    }\n",
       "\n",
       "    .dataframe thead th {\n",
       "        text-align: right;\n",
       "    }\n",
       "</style>\n",
       "<table border=\"1\" class=\"dataframe\">\n",
       "  <thead>\n",
       "    <tr style=\"text-align: right;\">\n",
       "      <th></th>\n",
       "      <th>mt</th>\n",
       "      <th>ribo</th>\n",
       "      <th>n_cells_by_counts</th>\n",
       "      <th>mean_counts</th>\n",
       "      <th>pct_dropout_by_counts</th>\n",
       "      <th>total_counts</th>\n",
       "      <th>n_cells</th>\n",
       "    </tr>\n",
       "  </thead>\n",
       "  <tbody>\n",
       "    <tr>\n",
       "      <th>AP001992.2</th>\n",
       "      <td>False</td>\n",
       "      <td>False</td>\n",
       "      <td>3</td>\n",
       "      <td>0.000665</td>\n",
       "      <td>99.933525</td>\n",
       "      <td>3.0</td>\n",
       "      <td>3</td>\n",
       "    </tr>\n",
       "    <tr>\n",
       "      <th>S100A1</th>\n",
       "      <td>False</td>\n",
       "      <td>False</td>\n",
       "      <td>3</td>\n",
       "      <td>0.000665</td>\n",
       "      <td>99.933525</td>\n",
       "      <td>3.0</td>\n",
       "      <td>3</td>\n",
       "    </tr>\n",
       "    <tr>\n",
       "      <th>OR7D2</th>\n",
       "      <td>False</td>\n",
       "      <td>False</td>\n",
       "      <td>3</td>\n",
       "      <td>0.000665</td>\n",
       "      <td>99.933525</td>\n",
       "      <td>3.0</td>\n",
       "      <td>3</td>\n",
       "    </tr>\n",
       "    <tr>\n",
       "      <th>TTC36</th>\n",
       "      <td>False</td>\n",
       "      <td>False</td>\n",
       "      <td>3</td>\n",
       "      <td>0.000665</td>\n",
       "      <td>99.933525</td>\n",
       "      <td>3.0</td>\n",
       "      <td>3</td>\n",
       "    </tr>\n",
       "    <tr>\n",
       "      <th>BX470102.1</th>\n",
       "      <td>False</td>\n",
       "      <td>False</td>\n",
       "      <td>3</td>\n",
       "      <td>0.000665</td>\n",
       "      <td>99.933525</td>\n",
       "      <td>3.0</td>\n",
       "      <td>3</td>\n",
       "    </tr>\n",
       "    <tr>\n",
       "      <th>...</th>\n",
       "      <td>...</td>\n",
       "      <td>...</td>\n",
       "      <td>...</td>\n",
       "      <td>...</td>\n",
       "      <td>...</td>\n",
       "      <td>...</td>\n",
       "      <td>...</td>\n",
       "    </tr>\n",
       "    <tr>\n",
       "      <th>ZBTB20</th>\n",
       "      <td>False</td>\n",
       "      <td>False</td>\n",
       "      <td>3557</td>\n",
       "      <td>2.747396</td>\n",
       "      <td>21.183248</td>\n",
       "      <td>12399.0</td>\n",
       "      <td>3557</td>\n",
       "    </tr>\n",
       "    <tr>\n",
       "      <th>MBNL1</th>\n",
       "      <td>False</td>\n",
       "      <td>False</td>\n",
       "      <td>3565</td>\n",
       "      <td>4.457788</td>\n",
       "      <td>21.005983</td>\n",
       "      <td>20118.0</td>\n",
       "      <td>3565</td>\n",
       "    </tr>\n",
       "    <tr>\n",
       "      <th>AKAP13</th>\n",
       "      <td>False</td>\n",
       "      <td>False</td>\n",
       "      <td>3835</td>\n",
       "      <td>4.516729</td>\n",
       "      <td>15.023266</td>\n",
       "      <td>20384.0</td>\n",
       "      <td>3835</td>\n",
       "    </tr>\n",
       "    <tr>\n",
       "      <th>NEAT1</th>\n",
       "      <td>False</td>\n",
       "      <td>False</td>\n",
       "      <td>3928</td>\n",
       "      <td>10.256814</td>\n",
       "      <td>12.962553</td>\n",
       "      <td>46289.0</td>\n",
       "      <td>3928</td>\n",
       "    </tr>\n",
       "    <tr>\n",
       "      <th>MALAT1</th>\n",
       "      <td>False</td>\n",
       "      <td>False</td>\n",
       "      <td>4510</td>\n",
       "      <td>106.989807</td>\n",
       "      <td>0.066475</td>\n",
       "      <td>482845.0</td>\n",
       "      <td>4510</td>\n",
       "    </tr>\n",
       "  </tbody>\n",
       "</table>\n",
       "<p>22861 rows × 7 columns</p>\n",
       "</div>"
      ],
      "text/plain": [
       "               mt   ribo  n_cells_by_counts  mean_counts  \\\n",
       "AP001992.2  False  False                  3     0.000665   \n",
       "S100A1      False  False                  3     0.000665   \n",
       "OR7D2       False  False                  3     0.000665   \n",
       "TTC36       False  False                  3     0.000665   \n",
       "BX470102.1  False  False                  3     0.000665   \n",
       "...           ...    ...                ...          ...   \n",
       "ZBTB20      False  False               3557     2.747396   \n",
       "MBNL1       False  False               3565     4.457788   \n",
       "AKAP13      False  False               3835     4.516729   \n",
       "NEAT1       False  False               3928    10.256814   \n",
       "MALAT1      False  False               4510   106.989807   \n",
       "\n",
       "            pct_dropout_by_counts  total_counts  n_cells  \n",
       "AP001992.2              99.933525           3.0        3  \n",
       "S100A1                  99.933525           3.0        3  \n",
       "OR7D2                   99.933525           3.0        3  \n",
       "TTC36                   99.933525           3.0        3  \n",
       "BX470102.1              99.933525           3.0        3  \n",
       "...                           ...           ...      ...  \n",
       "ZBTB20                  21.183248       12399.0     3557  \n",
       "MBNL1                   21.005983       20118.0     3565  \n",
       "AKAP13                  15.023266       20384.0     3835  \n",
       "NEAT1                   12.962553       46289.0     3928  \n",
       "MALAT1                   0.066475      482845.0     4510  \n",
       "\n",
       "[22861 rows x 7 columns]"
      ]
     },
     "execution_count": 39,
     "metadata": {},
     "output_type": "execute_result"
    }
   ],
   "source": [
    "adata.var.sort_values('n_cells_by_counts')"
   ]
  },
  {
   "cell_type": "code",
   "execution_count": 40,
   "id": "692b7db5",
   "metadata": {},
   "outputs": [
    {
     "data": {
      "text/html": [
       "<div>\n",
       "<style scoped>\n",
       "    .dataframe tbody tr th:only-of-type {\n",
       "        vertical-align: middle;\n",
       "    }\n",
       "\n",
       "    .dataframe tbody tr th {\n",
       "        vertical-align: top;\n",
       "    }\n",
       "\n",
       "    .dataframe thead th {\n",
       "        text-align: right;\n",
       "    }\n",
       "</style>\n",
       "<table border=\"1\" class=\"dataframe\">\n",
       "  <thead>\n",
       "    <tr style=\"text-align: right;\">\n",
       "      <th></th>\n",
       "      <th>doublet</th>\n",
       "      <th>n_genes_by_counts</th>\n",
       "      <th>total_counts</th>\n",
       "      <th>total_counts_mt</th>\n",
       "      <th>pct_counts_mt</th>\n",
       "      <th>total_counts_ribo</th>\n",
       "      <th>pct_counts_ribo</th>\n",
       "    </tr>\n",
       "  </thead>\n",
       "  <tbody>\n",
       "    <tr>\n",
       "      <th>TTACTGTGTCGTACTA-1_2</th>\n",
       "      <td>False</td>\n",
       "      <td>271</td>\n",
       "      <td>402.0</td>\n",
       "      <td>0.0</td>\n",
       "      <td>0.000000</td>\n",
       "      <td>0.0</td>\n",
       "      <td>0.000000</td>\n",
       "    </tr>\n",
       "    <tr>\n",
       "      <th>CTGCAGGAGCAAGGAA-1_2</th>\n",
       "      <td>False</td>\n",
       "      <td>276</td>\n",
       "      <td>435.0</td>\n",
       "      <td>1.0</td>\n",
       "      <td>0.229885</td>\n",
       "      <td>0.0</td>\n",
       "      <td>0.000000</td>\n",
       "    </tr>\n",
       "    <tr>\n",
       "      <th>TCATTACGTGAACCGA-1_2</th>\n",
       "      <td>False</td>\n",
       "      <td>277</td>\n",
       "      <td>414.0</td>\n",
       "      <td>0.0</td>\n",
       "      <td>0.000000</td>\n",
       "      <td>0.0</td>\n",
       "      <td>0.000000</td>\n",
       "    </tr>\n",
       "    <tr>\n",
       "      <th>GTTAGACCATCGATCA-1_2</th>\n",
       "      <td>False</td>\n",
       "      <td>277</td>\n",
       "      <td>418.0</td>\n",
       "      <td>1.0</td>\n",
       "      <td>0.239234</td>\n",
       "      <td>0.0</td>\n",
       "      <td>0.000000</td>\n",
       "    </tr>\n",
       "    <tr>\n",
       "      <th>AGCCAATTCAACCGAT-1_2</th>\n",
       "      <td>False</td>\n",
       "      <td>288</td>\n",
       "      <td>429.0</td>\n",
       "      <td>0.0</td>\n",
       "      <td>0.000000</td>\n",
       "      <td>0.0</td>\n",
       "      <td>0.000000</td>\n",
       "    </tr>\n",
       "    <tr>\n",
       "      <th>...</th>\n",
       "      <td>...</td>\n",
       "      <td>...</td>\n",
       "      <td>...</td>\n",
       "      <td>...</td>\n",
       "      <td>...</td>\n",
       "      <td>...</td>\n",
       "      <td>...</td>\n",
       "    </tr>\n",
       "    <tr>\n",
       "      <th>CCCTGATTCCATATGG-1_2</th>\n",
       "      <td>False</td>\n",
       "      <td>3998</td>\n",
       "      <td>9224.0</td>\n",
       "      <td>707.0</td>\n",
       "      <td>7.664788</td>\n",
       "      <td>21.0</td>\n",
       "      <td>0.227667</td>\n",
       "    </tr>\n",
       "    <tr>\n",
       "      <th>TCATTCATCCAGCACG-1_2</th>\n",
       "      <td>False</td>\n",
       "      <td>4086</td>\n",
       "      <td>10572.0</td>\n",
       "      <td>1000.0</td>\n",
       "      <td>9.458948</td>\n",
       "      <td>32.0</td>\n",
       "      <td>0.302686</td>\n",
       "    </tr>\n",
       "    <tr>\n",
       "      <th>CACCAAAAGCCACAAG-1_2</th>\n",
       "      <td>False</td>\n",
       "      <td>4301</td>\n",
       "      <td>16833.0</td>\n",
       "      <td>557.0</td>\n",
       "      <td>3.308976</td>\n",
       "      <td>47.0</td>\n",
       "      <td>0.279213</td>\n",
       "    </tr>\n",
       "    <tr>\n",
       "      <th>CGAAGGACACTGGCCA-1_2</th>\n",
       "      <td>False</td>\n",
       "      <td>4332</td>\n",
       "      <td>12303.0</td>\n",
       "      <td>986.0</td>\n",
       "      <td>8.014306</td>\n",
       "      <td>42.0</td>\n",
       "      <td>0.341380</td>\n",
       "    </tr>\n",
       "    <tr>\n",
       "      <th>CATCGGGCAGCTCATA-1_2</th>\n",
       "      <td>False</td>\n",
       "      <td>5727</td>\n",
       "      <td>17265.0</td>\n",
       "      <td>802.0</td>\n",
       "      <td>4.645236</td>\n",
       "      <td>324.0</td>\n",
       "      <td>1.876629</td>\n",
       "    </tr>\n",
       "  </tbody>\n",
       "</table>\n",
       "<p>4513 rows × 7 columns</p>\n",
       "</div>"
      ],
      "text/plain": [
       "                      doublet  n_genes_by_counts  total_counts  \\\n",
       "TTACTGTGTCGTACTA-1_2    False                271         402.0   \n",
       "CTGCAGGAGCAAGGAA-1_2    False                276         435.0   \n",
       "TCATTACGTGAACCGA-1_2    False                277         414.0   \n",
       "GTTAGACCATCGATCA-1_2    False                277         418.0   \n",
       "AGCCAATTCAACCGAT-1_2    False                288         429.0   \n",
       "...                       ...                ...           ...   \n",
       "CCCTGATTCCATATGG-1_2    False               3998        9224.0   \n",
       "TCATTCATCCAGCACG-1_2    False               4086       10572.0   \n",
       "CACCAAAAGCCACAAG-1_2    False               4301       16833.0   \n",
       "CGAAGGACACTGGCCA-1_2    False               4332       12303.0   \n",
       "CATCGGGCAGCTCATA-1_2    False               5727       17265.0   \n",
       "\n",
       "                      total_counts_mt  pct_counts_mt  total_counts_ribo  \\\n",
       "TTACTGTGTCGTACTA-1_2              0.0       0.000000                0.0   \n",
       "CTGCAGGAGCAAGGAA-1_2              1.0       0.229885                0.0   \n",
       "TCATTACGTGAACCGA-1_2              0.0       0.000000                0.0   \n",
       "GTTAGACCATCGATCA-1_2              1.0       0.239234                0.0   \n",
       "AGCCAATTCAACCGAT-1_2              0.0       0.000000                0.0   \n",
       "...                               ...            ...                ...   \n",
       "CCCTGATTCCATATGG-1_2            707.0       7.664788               21.0   \n",
       "TCATTCATCCAGCACG-1_2           1000.0       9.458948               32.0   \n",
       "CACCAAAAGCCACAAG-1_2            557.0       3.308976               47.0   \n",
       "CGAAGGACACTGGCCA-1_2            986.0       8.014306               42.0   \n",
       "CATCGGGCAGCTCATA-1_2            802.0       4.645236              324.0   \n",
       "\n",
       "                      pct_counts_ribo  \n",
       "TTACTGTGTCGTACTA-1_2         0.000000  \n",
       "CTGCAGGAGCAAGGAA-1_2         0.000000  \n",
       "TCATTACGTGAACCGA-1_2         0.000000  \n",
       "GTTAGACCATCGATCA-1_2         0.000000  \n",
       "AGCCAATTCAACCGAT-1_2         0.000000  \n",
       "...                               ...  \n",
       "CCCTGATTCCATATGG-1_2         0.227667  \n",
       "TCATTCATCCAGCACG-1_2         0.302686  \n",
       "CACCAAAAGCCACAAG-1_2         0.279213  \n",
       "CGAAGGACACTGGCCA-1_2         0.341380  \n",
       "CATCGGGCAGCTCATA-1_2         1.876629  \n",
       "\n",
       "[4513 rows x 7 columns]"
      ]
     },
     "execution_count": 40,
     "metadata": {},
     "output_type": "execute_result"
    }
   ],
   "source": [
    "adata.obs.sort_values('n_genes_by_counts')"
   ]
  },
  {
   "cell_type": "code",
   "execution_count": null,
   "id": "b55e0da7",
   "metadata": {},
   "outputs": [],
   "source": [
    "#sc.pp.filter_cells(adata, min_genes=200)"
   ]
  },
  {
   "cell_type": "code",
   "execution_count": 41,
   "id": "744364eb",
   "metadata": {},
   "outputs": [
    {
     "data": {
      "image/png": "[encoded data removed]",
      "text/plain": [
       "<Figure size 2011.11x500 with 4 Axes>"
      ]
     },
     "metadata": {},
     "output_type": "display_data"
    }
   ],
   "source": [
    "sc.pl.violin(adata, ['n_genes_by_counts', 'total_counts', 'pct_counts_mt', 'pct_counts_ribo'], \n",
    "             jitter=0.4, multi_panel=True)"
   ]
  },
  {
   "cell_type": "code",
   "execution_count": 42,
   "id": "87e8909f",
   "metadata": {},
   "outputs": [],
   "source": [
    "import numpy as np"
   ]
  },
  {
   "cell_type": "code",
   "execution_count": 43,
   "id": "af61b255",
   "metadata": {},
   "outputs": [],
   "source": [
    "upper_lim = np.quantile(adata.obs.n_genes_by_counts.values, .98)\n",
    "#upper_lim = 3000"
   ]
  },
  {
   "cell_type": "code",
   "execution_count": 44,
   "id": "a17ac203",
   "metadata": {},
   "outputs": [
    {
     "data": {
      "text/plain": [
       "np.float64(2824.3200000000015)"
      ]
     },
     "execution_count": 44,
     "metadata": {},
     "output_type": "execute_result"
    }
   ],
   "source": [
    "upper_lim"
   ]
  },
  {
   "cell_type": "code",
   "execution_count": 45,
   "id": "6ff49646",
   "metadata": {},
   "outputs": [],
   "source": [
    "adata = adata[adata.obs.n_genes_by_counts < upper_lim]"
   ]
  },
  {
   "cell_type": "code",
   "execution_count": 46,
   "id": "94f33f9b",
   "metadata": {},
   "outputs": [
    {
     "data": {
      "text/html": [
       "<div>\n",
       "<style scoped>\n",
       "    .dataframe tbody tr th:only-of-type {\n",
       "        vertical-align: middle;\n",
       "    }\n",
       "\n",
       "    .dataframe tbody tr th {\n",
       "        vertical-align: top;\n",
       "    }\n",
       "\n",
       "    .dataframe thead th {\n",
       "        text-align: right;\n",
       "    }\n",
       "</style>\n",
       "<table border=\"1\" class=\"dataframe\">\n",
       "  <thead>\n",
       "    <tr style=\"text-align: right;\">\n",
       "      <th></th>\n",
       "      <th>doublet</th>\n",
       "      <th>n_genes_by_counts</th>\n",
       "      <th>total_counts</th>\n",
       "      <th>total_counts_mt</th>\n",
       "      <th>pct_counts_mt</th>\n",
       "      <th>total_counts_ribo</th>\n",
       "      <th>pct_counts_ribo</th>\n",
       "    </tr>\n",
       "  </thead>\n",
       "  <tbody>\n",
       "    <tr>\n",
       "      <th>CTGGTCTTCCATGCAA-1_2</th>\n",
       "      <td>False</td>\n",
       "      <td>2339</td>\n",
       "      <td>7657.0</td>\n",
       "      <td>0.0</td>\n",
       "      <td>0.000000</td>\n",
       "      <td>2.0</td>\n",
       "      <td>0.026120</td>\n",
       "    </tr>\n",
       "    <tr>\n",
       "      <th>AGGATAAAGCCGCACT-1_2</th>\n",
       "      <td>False</td>\n",
       "      <td>2536</td>\n",
       "      <td>7023.0</td>\n",
       "      <td>206.0</td>\n",
       "      <td>2.933219</td>\n",
       "      <td>18.0</td>\n",
       "      <td>0.256301</td>\n",
       "    </tr>\n",
       "    <tr>\n",
       "      <th>GGGAGATCAGCAGTCC-1_2</th>\n",
       "      <td>False</td>\n",
       "      <td>2745</td>\n",
       "      <td>6757.0</td>\n",
       "      <td>601.0</td>\n",
       "      <td>8.894480</td>\n",
       "      <td>13.0</td>\n",
       "      <td>0.192393</td>\n",
       "    </tr>\n",
       "    <tr>\n",
       "      <th>TACCTGCAGCATCCCG-1_2</th>\n",
       "      <td>False</td>\n",
       "      <td>2433</td>\n",
       "      <td>6663.0</td>\n",
       "      <td>0.0</td>\n",
       "      <td>0.000000</td>\n",
       "      <td>6.0</td>\n",
       "      <td>0.090050</td>\n",
       "    </tr>\n",
       "    <tr>\n",
       "      <th>TATATCCAGCTCCCTT-1_2</th>\n",
       "      <td>False</td>\n",
       "      <td>2460</td>\n",
       "      <td>6562.0</td>\n",
       "      <td>1.0</td>\n",
       "      <td>0.015239</td>\n",
       "      <td>5.0</td>\n",
       "      <td>0.076196</td>\n",
       "    </tr>\n",
       "    <tr>\n",
       "      <th>...</th>\n",
       "      <td>...</td>\n",
       "      <td>...</td>\n",
       "      <td>...</td>\n",
       "      <td>...</td>\n",
       "      <td>...</td>\n",
       "      <td>...</td>\n",
       "      <td>...</td>\n",
       "    </tr>\n",
       "    <tr>\n",
       "      <th>GATGATCTCCGCGGAT-1_2</th>\n",
       "      <td>False</td>\n",
       "      <td>349</td>\n",
       "      <td>403.0</td>\n",
       "      <td>0.0</td>\n",
       "      <td>0.000000</td>\n",
       "      <td>0.0</td>\n",
       "      <td>0.000000</td>\n",
       "    </tr>\n",
       "    <tr>\n",
       "      <th>TCTCACGAGCTGAAAT-1_2</th>\n",
       "      <td>False</td>\n",
       "      <td>343</td>\n",
       "      <td>419.0</td>\n",
       "      <td>0.0</td>\n",
       "      <td>0.000000</td>\n",
       "      <td>0.0</td>\n",
       "      <td>0.000000</td>\n",
       "    </tr>\n",
       "    <tr>\n",
       "      <th>ATGAAAGAGAGGCGGA-1_2</th>\n",
       "      <td>False</td>\n",
       "      <td>315</td>\n",
       "      <td>406.0</td>\n",
       "      <td>0.0</td>\n",
       "      <td>0.000000</td>\n",
       "      <td>0.0</td>\n",
       "      <td>0.000000</td>\n",
       "    </tr>\n",
       "    <tr>\n",
       "      <th>GATCAGTGTTTCGATG-1_2</th>\n",
       "      <td>False</td>\n",
       "      <td>318</td>\n",
       "      <td>424.0</td>\n",
       "      <td>0.0</td>\n",
       "      <td>0.000000</td>\n",
       "      <td>0.0</td>\n",
       "      <td>0.000000</td>\n",
       "    </tr>\n",
       "    <tr>\n",
       "      <th>CCGTGAGTCCAGCTCT-1_2</th>\n",
       "      <td>False</td>\n",
       "      <td>339</td>\n",
       "      <td>404.0</td>\n",
       "      <td>0.0</td>\n",
       "      <td>0.000000</td>\n",
       "      <td>0.0</td>\n",
       "      <td>0.000000</td>\n",
       "    </tr>\n",
       "  </tbody>\n",
       "</table>\n",
       "<p>4422 rows × 7 columns</p>\n",
       "</div>"
      ],
      "text/plain": [
       "                      doublet  n_genes_by_counts  total_counts  \\\n",
       "CTGGTCTTCCATGCAA-1_2    False               2339        7657.0   \n",
       "AGGATAAAGCCGCACT-1_2    False               2536        7023.0   \n",
       "GGGAGATCAGCAGTCC-1_2    False               2745        6757.0   \n",
       "TACCTGCAGCATCCCG-1_2    False               2433        6663.0   \n",
       "TATATCCAGCTCCCTT-1_2    False               2460        6562.0   \n",
       "...                       ...                ...           ...   \n",
       "GATGATCTCCGCGGAT-1_2    False                349         403.0   \n",
       "TCTCACGAGCTGAAAT-1_2    False                343         419.0   \n",
       "ATGAAAGAGAGGCGGA-1_2    False                315         406.0   \n",
       "GATCAGTGTTTCGATG-1_2    False                318         424.0   \n",
       "CCGTGAGTCCAGCTCT-1_2    False                339         404.0   \n",
       "\n",
       "                      total_counts_mt  pct_counts_mt  total_counts_ribo  \\\n",
       "CTGGTCTTCCATGCAA-1_2              0.0       0.000000                2.0   \n",
       "AGGATAAAGCCGCACT-1_2            206.0       2.933219               18.0   \n",
       "GGGAGATCAGCAGTCC-1_2            601.0       8.894480               13.0   \n",
       "TACCTGCAGCATCCCG-1_2              0.0       0.000000                6.0   \n",
       "TATATCCAGCTCCCTT-1_2              1.0       0.015239                5.0   \n",
       "...                               ...            ...                ...   \n",
       "GATGATCTCCGCGGAT-1_2              0.0       0.000000                0.0   \n",
       "TCTCACGAGCTGAAAT-1_2              0.0       0.000000                0.0   \n",
       "ATGAAAGAGAGGCGGA-1_2              0.0       0.000000                0.0   \n",
       "GATCAGTGTTTCGATG-1_2              0.0       0.000000                0.0   \n",
       "CCGTGAGTCCAGCTCT-1_2              0.0       0.000000                0.0   \n",
       "\n",
       "                      pct_counts_ribo  \n",
       "CTGGTCTTCCATGCAA-1_2         0.026120  \n",
       "AGGATAAAGCCGCACT-1_2         0.256301  \n",
       "GGGAGATCAGCAGTCC-1_2         0.192393  \n",
       "TACCTGCAGCATCCCG-1_2         0.090050  \n",
       "TATATCCAGCTCCCTT-1_2         0.076196  \n",
       "...                               ...  \n",
       "GATGATCTCCGCGGAT-1_2         0.000000  \n",
       "TCTCACGAGCTGAAAT-1_2         0.000000  \n",
       "ATGAAAGAGAGGCGGA-1_2         0.000000  \n",
       "GATCAGTGTTTCGATG-1_2         0.000000  \n",
       "CCGTGAGTCCAGCTCT-1_2         0.000000  \n",
       "\n",
       "[4422 rows x 7 columns]"
      ]
     },
     "execution_count": 46,
     "metadata": {},
     "output_type": "execute_result"
    }
   ],
   "source": [
    "adata.obs"
   ]
  },
  {
   "cell_type": "code",
   "execution_count": 47,
   "id": "272d0672",
   "metadata": {},
   "outputs": [],
   "source": [
    "adata = adata[adata.obs.pct_counts_mt < 20]"
   ]
  },
  {
   "cell_type": "code",
   "execution_count": 48,
   "id": "6dc44537",
   "metadata": {},
   "outputs": [],
   "source": [
    "adata = adata[adata.obs.pct_counts_ribo < 2]"
   ]
  },
  {
   "cell_type": "code",
   "execution_count": 49,
   "id": "e2d5a3a3",
   "metadata": {},
   "outputs": [
    {
     "data": {
      "text/plain": [
       "View of AnnData object with n_obs × n_vars = 4415 × 22861\n",
       "    obs: 'doublet', 'n_genes_by_counts', 'total_counts', 'total_counts_mt', 'pct_counts_mt', 'total_counts_ribo', 'pct_counts_ribo'\n",
       "    var: 'mt', 'ribo', 'n_cells_by_counts', 'mean_counts', 'pct_dropout_by_counts', 'total_counts', 'n_cells'"
      ]
     },
     "execution_count": 49,
     "metadata": {},
     "output_type": "execute_result"
    }
   ],
   "source": [
    "adata"
   ]
  },
  {
   "cell_type": "markdown",
   "id": "fd7d7912",
   "metadata": {},
   "source": [
    "# Normalization"
   ]
  },
  {
   "cell_type": "code",
   "execution_count": 50,
   "id": "c4cb4742",
   "metadata": {},
   "outputs": [
    {
     "data": {
      "text/plain": [
       "array([7656., 7021., 6751., ...,  406.,  424.,  403.], dtype=float32)"
      ]
     },
     "execution_count": 50,
     "metadata": {},
     "output_type": "execute_result"
    }
   ],
   "source": [
    "adata.X.sum(axis = 1)"
   ]
  },
  {
   "cell_type": "code",
   "execution_count": 51,
   "id": "c7c0d806",
   "metadata": {},
   "outputs": [
    {
     "name": "stderr",
     "output_type": "stream",
     "text": [
      "/Users/denshi/Code/UGP/.venv/lib/python3.12/site-packages/scanpy/preprocessing/_normalization.py:207: UserWarning: Received a view of an AnnData. Making a copy.\n",
      "  view_to_actual(adata)\n"
     ]
    }
   ],
   "source": [
    "sc.pp.normalize_total(adata, target_sum=1e4) #normalize every cell to 10,000 UMI"
   ]
  },
  {
   "cell_type": "code",
   "execution_count": 52,
   "id": "503219fb",
   "metadata": {},
   "outputs": [
    {
     "data": {
      "text/plain": [
       "array([10000.001,  9999.999, 10000.   , ..., 10000.   , 10000.   ,\n",
       "       10000.   ], dtype=float32)"
      ]
     },
     "execution_count": 52,
     "metadata": {},
     "output_type": "execute_result"
    }
   ],
   "source": [
    "adata.X.sum(axis = 1)"
   ]
  },
  {
   "cell_type": "code",
   "execution_count": 53,
   "id": "5752f0da",
   "metadata": {},
   "outputs": [],
   "source": [
    "sc.pp.log1p(adata) #change to log counts"
   ]
  },
  {
   "cell_type": "code",
   "execution_count": 54,
   "id": "0bf5eed1",
   "metadata": {},
   "outputs": [
    {
     "data": {
      "text/plain": [
       "array([2909.4583, 3214.6165, 3464.3892, ..., 1063.0969, 1074.2141,\n",
       "       1129.3477], dtype=float32)"
      ]
     },
     "execution_count": 54,
     "metadata": {},
     "output_type": "execute_result"
    }
   ],
   "source": [
    "adata.X.sum(axis = 1)"
   ]
  },
  {
   "cell_type": "code",
   "execution_count": 55,
   "id": "d9b69865",
   "metadata": {},
   "outputs": [],
   "source": [
    "adata.raw = adata"
   ]
  },
  {
   "cell_type": "markdown",
   "id": "b59acb04",
   "metadata": {},
   "source": [
    "# Clustering"
   ]
  },
  {
   "cell_type": "code",
   "execution_count": 56,
   "id": "f80217c6",
   "metadata": {},
   "outputs": [],
   "source": [
    "sc.pp.highly_variable_genes(adata, n_top_genes = 2000)"
   ]
  },
  {
   "cell_type": "code",
   "execution_count": 57,
   "id": "e2e5f512",
   "metadata": {},
   "outputs": [
    {
     "data": {
      "text/html": [
       "<div>\n",
       "<style scoped>\n",
       "    .dataframe tbody tr th:only-of-type {\n",
       "        vertical-align: middle;\n",
       "    }\n",
       "\n",
       "    .dataframe tbody tr th {\n",
       "        vertical-align: top;\n",
       "    }\n",
       "\n",
       "    .dataframe thead th {\n",
       "        text-align: right;\n",
       "    }\n",
       "</style>\n",
       "<table border=\"1\" class=\"dataframe\">\n",
       "  <thead>\n",
       "    <tr style=\"text-align: right;\">\n",
       "      <th></th>\n",
       "      <th>mt</th>\n",
       "      <th>ribo</th>\n",
       "      <th>n_cells_by_counts</th>\n",
       "      <th>mean_counts</th>\n",
       "      <th>pct_dropout_by_counts</th>\n",
       "      <th>total_counts</th>\n",
       "      <th>n_cells</th>\n",
       "      <th>highly_variable</th>\n",
       "      <th>means</th>\n",
       "      <th>dispersions</th>\n",
       "      <th>dispersions_norm</th>\n",
       "    </tr>\n",
       "  </thead>\n",
       "  <tbody>\n",
       "    <tr>\n",
       "      <th>AL627309.1</th>\n",
       "      <td>False</td>\n",
       "      <td>False</td>\n",
       "      <td>13</td>\n",
       "      <td>0.002881</td>\n",
       "      <td>99.711943</td>\n",
       "      <td>13.0</td>\n",
       "      <td>13</td>\n",
       "      <td>False</td>\n",
       "      <td>0.019948</td>\n",
       "      <td>2.606545</td>\n",
       "      <td>0.955018</td>\n",
       "    </tr>\n",
       "    <tr>\n",
       "      <th>AL627309.5</th>\n",
       "      <td>False</td>\n",
       "      <td>False</td>\n",
       "      <td>22</td>\n",
       "      <td>0.004875</td>\n",
       "      <td>99.512519</td>\n",
       "      <td>22.0</td>\n",
       "      <td>22</td>\n",
       "      <td>False</td>\n",
       "      <td>0.019513</td>\n",
       "      <td>1.659234</td>\n",
       "      <td>-1.359556</td>\n",
       "    </tr>\n",
       "    <tr>\n",
       "      <th>AL627309.4</th>\n",
       "      <td>False</td>\n",
       "      <td>False</td>\n",
       "      <td>4</td>\n",
       "      <td>0.000886</td>\n",
       "      <td>99.911367</td>\n",
       "      <td>4.0</td>\n",
       "      <td>4</td>\n",
       "      <td>False</td>\n",
       "      <td>0.004935</td>\n",
       "      <td>1.878876</td>\n",
       "      <td>-0.822902</td>\n",
       "    </tr>\n",
       "    <tr>\n",
       "      <th>LINC01409</th>\n",
       "      <td>False</td>\n",
       "      <td>False</td>\n",
       "      <td>127</td>\n",
       "      <td>0.029249</td>\n",
       "      <td>97.185907</td>\n",
       "      <td>132.0</td>\n",
       "      <td>127</td>\n",
       "      <td>False</td>\n",
       "      <td>0.118691</td>\n",
       "      <td>1.905654</td>\n",
       "      <td>-0.757476</td>\n",
       "    </tr>\n",
       "    <tr>\n",
       "      <th>LINC01128</th>\n",
       "      <td>False</td>\n",
       "      <td>False</td>\n",
       "      <td>75</td>\n",
       "      <td>0.017283</td>\n",
       "      <td>98.338134</td>\n",
       "      <td>78.0</td>\n",
       "      <td>75</td>\n",
       "      <td>False</td>\n",
       "      <td>0.099736</td>\n",
       "      <td>2.453709</td>\n",
       "      <td>0.581591</td>\n",
       "    </tr>\n",
       "    <tr>\n",
       "      <th>...</th>\n",
       "      <td>...</td>\n",
       "      <td>...</td>\n",
       "      <td>...</td>\n",
       "      <td>...</td>\n",
       "      <td>...</td>\n",
       "      <td>...</td>\n",
       "      <td>...</td>\n",
       "      <td>...</td>\n",
       "      <td>...</td>\n",
       "      <td>...</td>\n",
       "      <td>...</td>\n",
       "    </tr>\n",
       "    <tr>\n",
       "      <th>BX324167.2</th>\n",
       "      <td>False</td>\n",
       "      <td>False</td>\n",
       "      <td>3</td>\n",
       "      <td>0.000665</td>\n",
       "      <td>99.933525</td>\n",
       "      <td>3.0</td>\n",
       "      <td>3</td>\n",
       "      <td>False</td>\n",
       "      <td>0.005211</td>\n",
       "      <td>2.274279</td>\n",
       "      <td>0.143188</td>\n",
       "    </tr>\n",
       "    <tr>\n",
       "      <th>AL117329.1</th>\n",
       "      <td>False</td>\n",
       "      <td>False</td>\n",
       "      <td>4</td>\n",
       "      <td>0.000886</td>\n",
       "      <td>99.911367</td>\n",
       "      <td>4.0</td>\n",
       "      <td>4</td>\n",
       "      <td>False</td>\n",
       "      <td>0.010361</td>\n",
       "      <td>2.560657</td>\n",
       "      <td>0.842899</td>\n",
       "    </tr>\n",
       "    <tr>\n",
       "      <th>VCX3B</th>\n",
       "      <td>False</td>\n",
       "      <td>False</td>\n",
       "      <td>3</td>\n",
       "      <td>0.000665</td>\n",
       "      <td>99.933525</td>\n",
       "      <td>3.0</td>\n",
       "      <td>3</td>\n",
       "      <td>False</td>\n",
       "      <td>0.001893</td>\n",
       "      <td>1.078503</td>\n",
       "      <td>-2.778461</td>\n",
       "    </tr>\n",
       "    <tr>\n",
       "      <th>SERTM2</th>\n",
       "      <td>False</td>\n",
       "      <td>False</td>\n",
       "      <td>19</td>\n",
       "      <td>0.004875</td>\n",
       "      <td>99.578994</td>\n",
       "      <td>22.0</td>\n",
       "      <td>19</td>\n",
       "      <td>False</td>\n",
       "      <td>0.030157</td>\n",
       "      <td>2.255813</td>\n",
       "      <td>0.098069</td>\n",
       "    </tr>\n",
       "    <tr>\n",
       "      <th>AC244102.4</th>\n",
       "      <td>False</td>\n",
       "      <td>False</td>\n",
       "      <td>5</td>\n",
       "      <td>0.001551</td>\n",
       "      <td>99.889209</td>\n",
       "      <td>7.0</td>\n",
       "      <td>5</td>\n",
       "      <td>False</td>\n",
       "      <td>0.009056</td>\n",
       "      <td>2.381317</td>\n",
       "      <td>0.404715</td>\n",
       "    </tr>\n",
       "  </tbody>\n",
       "</table>\n",
       "<p>22861 rows × 11 columns</p>\n",
       "</div>"
      ],
      "text/plain": [
       "               mt   ribo  n_cells_by_counts  mean_counts  \\\n",
       "AL627309.1  False  False                 13     0.002881   \n",
       "AL627309.5  False  False                 22     0.004875   \n",
       "AL627309.4  False  False                  4     0.000886   \n",
       "LINC01409   False  False                127     0.029249   \n",
       "LINC01128   False  False                 75     0.017283   \n",
       "...           ...    ...                ...          ...   \n",
       "BX324167.2  False  False                  3     0.000665   \n",
       "AL117329.1  False  False                  4     0.000886   \n",
       "VCX3B       False  False                  3     0.000665   \n",
       "SERTM2      False  False                 19     0.004875   \n",
       "AC244102.4  False  False                  5     0.001551   \n",
       "\n",
       "            pct_dropout_by_counts  total_counts  n_cells  highly_variable  \\\n",
       "AL627309.1              99.711943          13.0       13            False   \n",
       "AL627309.5              99.512519          22.0       22            False   \n",
       "AL627309.4              99.911367           4.0        4            False   \n",
       "LINC01409               97.185907         132.0      127            False   \n",
       "LINC01128               98.338134          78.0       75            False   \n",
       "...                           ...           ...      ...              ...   \n",
       "BX324167.2              99.933525           3.0        3            False   \n",
       "AL117329.1              99.911367           4.0        4            False   \n",
       "VCX3B                   99.933525           3.0        3            False   \n",
       "SERTM2                  99.578994          22.0       19            False   \n",
       "AC244102.4              99.889209           7.0        5            False   \n",
       "\n",
       "               means  dispersions  dispersions_norm  \n",
       "AL627309.1  0.019948     2.606545          0.955018  \n",
       "AL627309.5  0.019513     1.659234         -1.359556  \n",
       "AL627309.4  0.004935     1.878876         -0.822902  \n",
       "LINC01409   0.118691     1.905654         -0.757476  \n",
       "LINC01128   0.099736     2.453709          0.581591  \n",
       "...              ...          ...               ...  \n",
       "BX324167.2  0.005211     2.274279          0.143188  \n",
       "AL117329.1  0.010361     2.560657          0.842899  \n",
       "VCX3B       0.001893     1.078503         -2.778461  \n",
       "SERTM2      0.030157     2.255813          0.098069  \n",
       "AC244102.4  0.009056     2.381317          0.404715  \n",
       "\n",
       "[22861 rows x 11 columns]"
      ]
     },
     "execution_count": 57,
     "metadata": {},
     "output_type": "execute_result"
    }
   ],
   "source": [
    "adata.var"
   ]
  },
  {
   "cell_type": "code",
   "execution_count": 58,
   "id": "c9a4b0c4",
   "metadata": {},
   "outputs": [
    {
     "data": {
      "image/png": "[encoded data removed]",
      "text/plain": [
       "<Figure size 1280x480 with 2 Axes>"
      ]
     },
     "metadata": {},
     "output_type": "display_data"
    }
   ],
   "source": [
    "sc.pl.highly_variable_genes(adata)"
   ]
  },
  {
   "cell_type": "code",
   "execution_count": 59,
   "id": "5d123cb9",
   "metadata": {},
   "outputs": [],
   "source": [
    "adata = adata[:, adata.var.highly_variable]"
   ]
  },
  {
   "cell_type": "code",
   "execution_count": 60,
   "id": "88242fc3",
   "metadata": {},
   "outputs": [
    {
     "name": "stderr",
     "output_type": "stream",
     "text": [
      "/Users/denshi/Code/UGP/.venv/lib/python3.12/site-packages/scanpy/preprocessing/_simple.py:672: UserWarning: Received a view of an AnnData. Making a copy.\n",
      "  view_to_actual(adata)\n"
     ]
    }
   ],
   "source": [
    "sc.pp.regress_out(adata, ['total_counts', 'pct_counts_mt', 'pct_counts_ribo'])"
   ]
  },
  {
   "cell_type": "code",
   "execution_count": 61,
   "id": "5fa9436e",
   "metadata": {},
   "outputs": [
    {
     "name": "stderr",
     "output_type": "stream",
     "text": [
      "OMP: Info #276: omp_set_nested routine deprecated, please use omp_set_max_active_levels instead.\n"
     ]
    }
   ],
   "source": [
    "sc.pp.scale(adata, max_value=10)"
   ]
  },
  {
   "cell_type": "code",
   "execution_count": 62,
   "id": "a7986612",
   "metadata": {},
   "outputs": [],
   "source": [
    "sc.tl.pca(adata, svd_solver='arpack')"
   ]
  },
  {
   "cell_type": "code",
   "execution_count": 63,
   "id": "7c5fb725",
   "metadata": {},
   "outputs": [
    {
     "data": {
      "image/png": "[encoded data removed]",
      "text/plain": [
       "<Figure size 640x480 with 1 Axes>"
      ]
     },
     "metadata": {},
     "output_type": "display_data"
    }
   ],
   "source": [
    "sc.pl.pca_variance_ratio(adata, log=True, n_pcs = 50)"
   ]
  },
  {
   "cell_type": "code",
   "execution_count": 64,
   "id": "88ec6cf8",
   "metadata": {},
   "outputs": [],
   "source": [
    "sc.pp.neighbors(adata, n_pcs = 30)"
   ]
  },
  {
   "cell_type": "code",
   "execution_count": 65,
   "id": "327d9041",
   "metadata": {},
   "outputs": [],
   "source": [
    "sc.tl.umap(adata)"
   ]
  },
  {
   "cell_type": "code",
   "execution_count": 66,
   "id": "93391aeb",
   "metadata": {},
   "outputs": [
    {
     "data": {
      "image/png": "[encoded data removed]",
      "text/plain": [
       "<Figure size 640x480 with 1 Axes>"
      ]
     },
     "metadata": {},
     "output_type": "display_data"
    }
   ],
   "source": [
    "sc.pl.umap(adata)"
   ]
  },
  {
   "cell_type": "code",
   "execution_count": null,
   "id": "5a2f975f",
   "metadata": {},
   "outputs": [],
   "source": [
    "#!pip install leidenalg"
   ]
  },
  {
   "cell_type": "code",
   "execution_count": 67,
   "id": "e93707ce",
   "metadata": {},
   "outputs": [
    {
     "name": "stderr",
     "output_type": "stream",
     "text": [
      "/var/folders/rm/psh86dn96ss_b4khvkydrgq80000gn/T/ipykernel_9120/3246266323.py:1: FutureWarning: In the future, the default backend for leiden will be igraph instead of leidenalg.\n",
      "\n",
      " To achieve the future defaults please pass: flavor=\"igraph\" and n_iterations=2.  directed must also be False to work with igraph's implementation.\n",
      "  sc.tl.leiden(adata, resolution = 0.5)\n"
     ]
    }
   ],
   "source": [
    "sc.tl.leiden(adata, resolution = 0.5)"
   ]
  },
  {
   "cell_type": "code",
   "execution_count": 68,
   "id": "04c81db8",
   "metadata": {},
   "outputs": [
    {
     "data": {
      "text/html": [
       "<div>\n",
       "<style scoped>\n",
       "    .dataframe tbody tr th:only-of-type {\n",
       "        vertical-align: middle;\n",
       "    }\n",
       "\n",
       "    .dataframe tbody tr th {\n",
       "        vertical-align: top;\n",
       "    }\n",
       "\n",
       "    .dataframe thead th {\n",
       "        text-align: right;\n",
       "    }\n",
       "</style>\n",
       "<table border=\"1\" class=\"dataframe\">\n",
       "  <thead>\n",
       "    <tr style=\"text-align: right;\">\n",
       "      <th></th>\n",
       "      <th>doublet</th>\n",
       "      <th>n_genes_by_counts</th>\n",
       "      <th>total_counts</th>\n",
       "      <th>total_counts_mt</th>\n",
       "      <th>pct_counts_mt</th>\n",
       "      <th>total_counts_ribo</th>\n",
       "      <th>pct_counts_ribo</th>\n",
       "      <th>leiden</th>\n",
       "    </tr>\n",
       "  </thead>\n",
       "  <tbody>\n",
       "    <tr>\n",
       "      <th>CTGGTCTTCCATGCAA-1_2</th>\n",
       "      <td>False</td>\n",
       "      <td>2339</td>\n",
       "      <td>7657.0</td>\n",
       "      <td>0.0</td>\n",
       "      <td>0.000000</td>\n",
       "      <td>2.0</td>\n",
       "      <td>0.026120</td>\n",
       "      <td>2</td>\n",
       "    </tr>\n",
       "    <tr>\n",
       "      <th>AGGATAAAGCCGCACT-1_2</th>\n",
       "      <td>False</td>\n",
       "      <td>2536</td>\n",
       "      <td>7023.0</td>\n",
       "      <td>206.0</td>\n",
       "      <td>2.933219</td>\n",
       "      <td>18.0</td>\n",
       "      <td>0.256301</td>\n",
       "      <td>3</td>\n",
       "    </tr>\n",
       "    <tr>\n",
       "      <th>GGGAGATCAGCAGTCC-1_2</th>\n",
       "      <td>False</td>\n",
       "      <td>2745</td>\n",
       "      <td>6757.0</td>\n",
       "      <td>601.0</td>\n",
       "      <td>8.894480</td>\n",
       "      <td>13.0</td>\n",
       "      <td>0.192393</td>\n",
       "      <td>5</td>\n",
       "    </tr>\n",
       "    <tr>\n",
       "      <th>TACCTGCAGCATCCCG-1_2</th>\n",
       "      <td>False</td>\n",
       "      <td>2433</td>\n",
       "      <td>6663.0</td>\n",
       "      <td>0.0</td>\n",
       "      <td>0.000000</td>\n",
       "      <td>6.0</td>\n",
       "      <td>0.090050</td>\n",
       "      <td>2</td>\n",
       "    </tr>\n",
       "    <tr>\n",
       "      <th>TATATCCAGCTCCCTT-1_2</th>\n",
       "      <td>False</td>\n",
       "      <td>2460</td>\n",
       "      <td>6562.0</td>\n",
       "      <td>1.0</td>\n",
       "      <td>0.015239</td>\n",
       "      <td>5.0</td>\n",
       "      <td>0.076196</td>\n",
       "      <td>2</td>\n",
       "    </tr>\n",
       "    <tr>\n",
       "      <th>...</th>\n",
       "      <td>...</td>\n",
       "      <td>...</td>\n",
       "      <td>...</td>\n",
       "      <td>...</td>\n",
       "      <td>...</td>\n",
       "      <td>...</td>\n",
       "      <td>...</td>\n",
       "      <td>...</td>\n",
       "    </tr>\n",
       "    <tr>\n",
       "      <th>GATGATCTCCGCGGAT-1_2</th>\n",
       "      <td>False</td>\n",
       "      <td>349</td>\n",
       "      <td>403.0</td>\n",
       "      <td>0.0</td>\n",
       "      <td>0.000000</td>\n",
       "      <td>0.0</td>\n",
       "      <td>0.000000</td>\n",
       "      <td>4</td>\n",
       "    </tr>\n",
       "    <tr>\n",
       "      <th>TCTCACGAGCTGAAAT-1_2</th>\n",
       "      <td>False</td>\n",
       "      <td>343</td>\n",
       "      <td>419.0</td>\n",
       "      <td>0.0</td>\n",
       "      <td>0.000000</td>\n",
       "      <td>0.0</td>\n",
       "      <td>0.000000</td>\n",
       "      <td>0</td>\n",
       "    </tr>\n",
       "    <tr>\n",
       "      <th>ATGAAAGAGAGGCGGA-1_2</th>\n",
       "      <td>False</td>\n",
       "      <td>315</td>\n",
       "      <td>406.0</td>\n",
       "      <td>0.0</td>\n",
       "      <td>0.000000</td>\n",
       "      <td>0.0</td>\n",
       "      <td>0.000000</td>\n",
       "      <td>1</td>\n",
       "    </tr>\n",
       "    <tr>\n",
       "      <th>GATCAGTGTTTCGATG-1_2</th>\n",
       "      <td>False</td>\n",
       "      <td>318</td>\n",
       "      <td>424.0</td>\n",
       "      <td>0.0</td>\n",
       "      <td>0.000000</td>\n",
       "      <td>0.0</td>\n",
       "      <td>0.000000</td>\n",
       "      <td>1</td>\n",
       "    </tr>\n",
       "    <tr>\n",
       "      <th>CCGTGAGTCCAGCTCT-1_2</th>\n",
       "      <td>False</td>\n",
       "      <td>339</td>\n",
       "      <td>404.0</td>\n",
       "      <td>0.0</td>\n",
       "      <td>0.000000</td>\n",
       "      <td>0.0</td>\n",
       "      <td>0.000000</td>\n",
       "      <td>1</td>\n",
       "    </tr>\n",
       "  </tbody>\n",
       "</table>\n",
       "<p>4415 rows × 8 columns</p>\n",
       "</div>"
      ],
      "text/plain": [
       "                      doublet  n_genes_by_counts  total_counts  \\\n",
       "CTGGTCTTCCATGCAA-1_2    False               2339        7657.0   \n",
       "AGGATAAAGCCGCACT-1_2    False               2536        7023.0   \n",
       "GGGAGATCAGCAGTCC-1_2    False               2745        6757.0   \n",
       "TACCTGCAGCATCCCG-1_2    False               2433        6663.0   \n",
       "TATATCCAGCTCCCTT-1_2    False               2460        6562.0   \n",
       "...                       ...                ...           ...   \n",
       "GATGATCTCCGCGGAT-1_2    False                349         403.0   \n",
       "TCTCACGAGCTGAAAT-1_2    False                343         419.0   \n",
       "ATGAAAGAGAGGCGGA-1_2    False                315         406.0   \n",
       "GATCAGTGTTTCGATG-1_2    False                318         424.0   \n",
       "CCGTGAGTCCAGCTCT-1_2    False                339         404.0   \n",
       "\n",
       "                      total_counts_mt  pct_counts_mt  total_counts_ribo  \\\n",
       "CTGGTCTTCCATGCAA-1_2              0.0       0.000000                2.0   \n",
       "AGGATAAAGCCGCACT-1_2            206.0       2.933219               18.0   \n",
       "GGGAGATCAGCAGTCC-1_2            601.0       8.894480               13.0   \n",
       "TACCTGCAGCATCCCG-1_2              0.0       0.000000                6.0   \n",
       "TATATCCAGCTCCCTT-1_2              1.0       0.015239                5.0   \n",
       "...                               ...            ...                ...   \n",
       "GATGATCTCCGCGGAT-1_2              0.0       0.000000                0.0   \n",
       "TCTCACGAGCTGAAAT-1_2              0.0       0.000000                0.0   \n",
       "ATGAAAGAGAGGCGGA-1_2              0.0       0.000000                0.0   \n",
       "GATCAGTGTTTCGATG-1_2              0.0       0.000000                0.0   \n",
       "CCGTGAGTCCAGCTCT-1_2              0.0       0.000000                0.0   \n",
       "\n",
       "                      pct_counts_ribo leiden  \n",
       "CTGGTCTTCCATGCAA-1_2         0.026120      2  \n",
       "AGGATAAAGCCGCACT-1_2         0.256301      3  \n",
       "GGGAGATCAGCAGTCC-1_2         0.192393      5  \n",
       "TACCTGCAGCATCCCG-1_2         0.090050      2  \n",
       "TATATCCAGCTCCCTT-1_2         0.076196      2  \n",
       "...                               ...    ...  \n",
       "GATGATCTCCGCGGAT-1_2         0.000000      4  \n",
       "TCTCACGAGCTGAAAT-1_2         0.000000      0  \n",
       "ATGAAAGAGAGGCGGA-1_2         0.000000      1  \n",
       "GATCAGTGTTTCGATG-1_2         0.000000      1  \n",
       "CCGTGAGTCCAGCTCT-1_2         0.000000      1  \n",
       "\n",
       "[4415 rows x 8 columns]"
      ]
     },
     "execution_count": 68,
     "metadata": {},
     "output_type": "execute_result"
    }
   ],
   "source": [
    "adata.obs"
   ]
  },
  {
   "cell_type": "code",
   "execution_count": 69,
   "id": "a631668c",
   "metadata": {},
   "outputs": [
    {
     "data": {
      "image/png": "[encoded data removed]",
      "text/plain": [
       "<Figure size 640x480 with 1 Axes>"
      ]
     },
     "metadata": {},
     "output_type": "display_data"
    }
   ],
   "source": [
    "sc.pl.umap(adata, color=['leiden'])"
   ]
  },
  {
   "cell_type": "markdown",
   "id": "9c140ed5",
   "metadata": {},
   "source": [
    "# Integration"
   ]
  },
  {
   "cell_type": "code",
   "execution_count": null,
   "id": "68a16b4f",
   "metadata": {},
   "outputs": [],
   "source": [
    "import torch\n",
    "torch.set_float32_matmul_precision('high')"
   ]
  },
  {
   "cell_type": "code",
   "execution_count": 89,
   "id": "a296b545",
   "metadata": {},
   "outputs": [],
   "source": [
    "def pp(csv_path):\n",
    "    # Load and transpose data\n",
    "    adata = sc.read_csv(csv_path).T\n",
    "    \n",
    "    # Filter genes and select highly variable ones\n",
    "    sc.pp.filter_genes(adata, min_cells=10)\n",
    "    sc.pp.highly_variable_genes(adata, n_top_genes=2000, subset=True, flavor='seurat_v3')\n",
    "    \n",
    "    # Setup SCVI model\n",
    "    scvi.model.SCVI.setup_anndata(adata)\n",
    "    vae = scvi.model.SCVI(adata)\n",
    "    \n",
    "    # Train SCVI model with GPU and mixed precision\n",
    "    vae.train(accelerator='gpu', precision='16-mixed')\n",
    "    \n",
    "    # Train SOLO for doublet detection\n",
    "    solo = scvi.external.SOLO.from_scvi_model(vae)\n",
    "    solo.train(accelerator='gpu', precision='16-mixed')\n",
    "    \n",
    "    # Predict doublets and calculate differences\n",
    "    df = solo.predict()\n",
    "    df['prediction'] = solo.predict(soft=False)\n",
    "    df.index = df.index.map(lambda x: x[:-2])\n",
    "    df['dif'] = df.doublet - df.singlet\n",
    "    doublets = df[(df.prediction == 'doublet') & (df.dif > 0.4)]\n",
    "    \n",
    "    # Reload original data and annotate\n",
    "    adata = sc.read_csv(csv_path).T\n",
    "    adata.obs['Sample'] = csv_path.split('_')[2]  # e.g., 'raw_counts/GSM5226574_C51ctr_raw_counts.csv'\n",
    "    adata.obs['doublet'] = adata.obs.index.isin(doublets.index)\n",
    "    \n",
    "    # Filter out doublets\n",
    "    adata = adata[~adata.obs.doublet]\n",
    "    \n",
    "    # Basic QC: filter cells and genes\n",
    "    sc.pp.filter_cells(adata, min_genes=200)\n",
    "    adata.var['mt'] = adata.var_names.str.startswith('mt-')  # Annotate mitochondrial genes\n",
    "    adata.var['ribo'] = adata.var_names.isin(ribo_genes[0].values)  # Annotate ribosomal genes\n",
    "    sc.pp.calculate_qc_metrics(adata, qc_vars=['mt', 'ribo'], percent_top=None, log1p=False, inplace=True)\n",
    "    \n",
    "    # Filter out cells with extreme counts or high mitochondrial/ribosomal content\n",
    "    upper_lim = np.quantile(adata.obs.n_genes_by_counts.values, 0.98)\n",
    "    adata = adata[adata.obs.n_genes_by_counts < upper_lim]\n",
    "    adata = adata[adata.obs.pct_counts_mt < 20]\n",
    "    adata = adata[adata.obs.pct_counts_ribo < 2]\n",
    "    \n",
    "    return adata\n"
   ]
  },
  {
   "cell_type": "code",
   "execution_count": 90,
   "id": "a540ec07",
   "metadata": {},
   "outputs": [],
   "source": [
    "import os"
   ]
  },
  {
   "cell_type": "code",
   "execution_count": null,
   "id": "85324fb7",
   "metadata": {},
   "outputs": [],
   "source": [
    "out = []\n",
    "for file in os.listdir('raw_counts/'):\n",
    "    out.append(pp('raw_counts/' + file))"
   ]
  },
  {
   "cell_type": "code",
   "execution_count": 94,
   "id": "945d16b9",
   "metadata": {},
   "outputs": [],
   "source": [
    "adata = sc.concat(out)"
   ]
  },
  {
   "cell_type": "code",
   "execution_count": 101,
   "id": "9e6f54f2",
   "metadata": {},
   "outputs": [
    {
     "data": {
      "text/plain": [
       "AnnData object with n_obs × n_vars = 98979 × 29037\n",
       "    obs: 'Sample', 'doublet', 'n_genes', 'n_genes_by_counts', 'total_counts', 'total_counts_mt', 'pct_counts_mt', 'total_counts_ribo', 'pct_counts_ribo'\n",
       "    var: 'n_cells'"
      ]
     },
     "execution_count": 101,
     "metadata": {},
     "output_type": "execute_result"
    }
   ],
   "source": [
    "adata"
   ]
  }
 ],
 "metadata": {
  "kernelspec": {
   "display_name": ".venv",
   "language": "python",
   "name": "python3"
  },
  "language_info": {
   "codemirror_mode": {
    "name": "ipython",
    "version": 3
   },
   "file_extension": ".py",
   "mimetype": "text/x-python",
   "name": "python",
   "nbconvert_exporter": "python",
   "pygments_lexer": "ipython3",
   "version": "3.12.7"
  }
 },
 "nbformat": 4,
 "nbformat_minor": 5
}
